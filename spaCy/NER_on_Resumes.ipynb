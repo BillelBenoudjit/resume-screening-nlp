{
  "cells": [
    {
      "cell_type": "markdown",
      "source": [
        "## Import needed packages"
      ],
      "metadata": {
        "id": "70VXkSr0gPmt"
      }
    },
    {
      "cell_type": "code",
      "execution_count": 1,
      "metadata": {
        "colab": {
          "base_uri": "https://localhost:8080/"
        },
        "id": "3_kbKRD5yalt",
        "outputId": "acc218b5-068e-4853-fa70-6c315950f5c0"
      },
      "outputs": [
        {
          "output_type": "stream",
          "name": "stdout",
          "text": [
            "Looking in indexes: https://pypi.org/simple, https://us-python.pkg.dev/colab-wheels/public/simple/\n",
            "Requirement already satisfied: spacy in /usr/local/lib/python3.8/dist-packages (3.4.4)\n",
            "Requirement already satisfied: setuptools in /usr/local/lib/python3.8/dist-packages (from spacy) (57.4.0)\n",
            "Requirement already satisfied: wasabi<1.1.0,>=0.9.1 in /usr/local/lib/python3.8/dist-packages (from spacy) (0.10.1)\n",
            "Requirement already satisfied: tqdm<5.0.0,>=4.38.0 in /usr/local/lib/python3.8/dist-packages (from spacy) (4.64.1)\n",
            "Requirement already satisfied: smart-open<7.0.0,>=5.2.1 in /usr/local/lib/python3.8/dist-packages (from spacy) (6.3.0)\n",
            "Requirement already satisfied: packaging>=20.0 in /usr/local/lib/python3.8/dist-packages (from spacy) (23.0)\n",
            "Requirement already satisfied: requests<3.0.0,>=2.13.0 in /usr/local/lib/python3.8/dist-packages (from spacy) (2.25.1)\n",
            "Requirement already satisfied: numpy>=1.15.0 in /usr/local/lib/python3.8/dist-packages (from spacy) (1.21.6)\n",
            "Requirement already satisfied: langcodes<4.0.0,>=3.2.0 in /usr/local/lib/python3.8/dist-packages (from spacy) (3.3.0)\n",
            "Requirement already satisfied: typer<0.8.0,>=0.3.0 in /usr/local/lib/python3.8/dist-packages (from spacy) (0.7.0)\n",
            "Requirement already satisfied: murmurhash<1.1.0,>=0.28.0 in /usr/local/lib/python3.8/dist-packages (from spacy) (1.0.9)\n",
            "Requirement already satisfied: cymem<2.1.0,>=2.0.2 in /usr/local/lib/python3.8/dist-packages (from spacy) (2.0.7)\n",
            "Requirement already satisfied: pathy>=0.3.5 in /usr/local/lib/python3.8/dist-packages (from spacy) (0.10.1)\n",
            "Requirement already satisfied: catalogue<2.1.0,>=2.0.6 in /usr/local/lib/python3.8/dist-packages (from spacy) (2.0.8)\n",
            "Requirement already satisfied: preshed<3.1.0,>=3.0.2 in /usr/local/lib/python3.8/dist-packages (from spacy) (3.0.8)\n",
            "Requirement already satisfied: spacy-legacy<3.1.0,>=3.0.10 in /usr/local/lib/python3.8/dist-packages (from spacy) (3.0.12)\n",
            "Requirement already satisfied: srsly<3.0.0,>=2.4.3 in /usr/local/lib/python3.8/dist-packages (from spacy) (2.4.5)\n",
            "Requirement already satisfied: spacy-loggers<2.0.0,>=1.0.0 in /usr/local/lib/python3.8/dist-packages (from spacy) (1.0.4)\n",
            "Requirement already satisfied: thinc<8.2.0,>=8.1.0 in /usr/local/lib/python3.8/dist-packages (from spacy) (8.1.7)\n",
            "Requirement already satisfied: jinja2 in /usr/local/lib/python3.8/dist-packages (from spacy) (2.11.3)\n",
            "Requirement already satisfied: pydantic!=1.8,!=1.8.1,<1.11.0,>=1.7.4 in /usr/local/lib/python3.8/dist-packages (from spacy) (1.10.4)\n",
            "Requirement already satisfied: typing-extensions>=4.2.0 in /usr/local/lib/python3.8/dist-packages (from pydantic!=1.8,!=1.8.1,<1.11.0,>=1.7.4->spacy) (4.4.0)\n",
            "Requirement already satisfied: urllib3<1.27,>=1.21.1 in /usr/local/lib/python3.8/dist-packages (from requests<3.0.0,>=2.13.0->spacy) (1.24.3)\n",
            "Requirement already satisfied: chardet<5,>=3.0.2 in /usr/local/lib/python3.8/dist-packages (from requests<3.0.0,>=2.13.0->spacy) (4.0.0)\n",
            "Requirement already satisfied: certifi>=2017.4.17 in /usr/local/lib/python3.8/dist-packages (from requests<3.0.0,>=2.13.0->spacy) (2022.12.7)\n",
            "Requirement already satisfied: idna<3,>=2.5 in /usr/local/lib/python3.8/dist-packages (from requests<3.0.0,>=2.13.0->spacy) (2.10)\n",
            "Requirement already satisfied: blis<0.8.0,>=0.7.8 in /usr/local/lib/python3.8/dist-packages (from thinc<8.2.0,>=8.1.0->spacy) (0.7.9)\n",
            "Requirement already satisfied: confection<1.0.0,>=0.0.1 in /usr/local/lib/python3.8/dist-packages (from thinc<8.2.0,>=8.1.0->spacy) (0.0.4)\n",
            "Requirement already satisfied: click<9.0.0,>=7.1.1 in /usr/local/lib/python3.8/dist-packages (from typer<0.8.0,>=0.3.0->spacy) (7.1.2)\n",
            "Requirement already satisfied: MarkupSafe>=0.23 in /usr/local/lib/python3.8/dist-packages (from jinja2->spacy) (2.0.1)\n",
            "Looking in indexes: https://pypi.org/simple, https://us-python.pkg.dev/colab-wheels/public/simple/\n",
            "Collecting seqeval\n",
            "  Downloading seqeval-1.2.2.tar.gz (43 kB)\n",
            "\u001b[2K     \u001b[90m━━━━━━━━━━━━━━━━━━━━━━━━━━━━━━━━━━━━━━━━\u001b[0m \u001b[32m43.6/43.6 KB\u001b[0m \u001b[31m2.5 MB/s\u001b[0m eta \u001b[36m0:00:00\u001b[0m\n",
            "\u001b[?25h  Preparing metadata (setup.py) ... \u001b[?25l\u001b[?25hdone\n",
            "Requirement already satisfied: numpy>=1.14.0 in /usr/local/lib/python3.8/dist-packages (from seqeval) (1.21.6)\n",
            "Requirement already satisfied: scikit-learn>=0.21.3 in /usr/local/lib/python3.8/dist-packages (from seqeval) (1.0.2)\n",
            "Requirement already satisfied: threadpoolctl>=2.0.0 in /usr/local/lib/python3.8/dist-packages (from scikit-learn>=0.21.3->seqeval) (3.1.0)\n",
            "Requirement already satisfied: scipy>=1.1.0 in /usr/local/lib/python3.8/dist-packages (from scikit-learn>=0.21.3->seqeval) (1.7.3)\n",
            "Requirement already satisfied: joblib>=0.11 in /usr/local/lib/python3.8/dist-packages (from scikit-learn>=0.21.3->seqeval) (1.2.0)\n",
            "Building wheels for collected packages: seqeval\n",
            "  Building wheel for seqeval (setup.py) ... \u001b[?25l\u001b[?25hdone\n",
            "  Created wheel for seqeval: filename=seqeval-1.2.2-py3-none-any.whl size=16179 sha256=a4034eb7bdef679ec5a6ff9dc1c28b9c8fd42bfe6f663790e7110077168a7b3c\n",
            "  Stored in directory: /root/.cache/pip/wheels/ad/5c/ba/05fa33fa5855777b7d686e843ec07452f22a66a138e290e732\n",
            "Successfully built seqeval\n",
            "Installing collected packages: seqeval\n",
            "Successfully installed seqeval-1.2.2\n"
          ]
        }
      ],
      "source": [
        "# Install needed packages\n",
        "!pip install spacy\n",
        "!pip install seqeval"
      ]
    },
    {
      "cell_type": "code",
      "execution_count": 2,
      "metadata": {
        "id": "e6cdMRuOx-Iw",
        "colab": {
          "base_uri": "https://localhost:8080/"
        },
        "outputId": "83406407-a862-4e32-8611-5499f5bb1d63"
      },
      "outputs": [
        {
          "output_type": "stream",
          "name": "stderr",
          "text": [
            "/usr/local/lib/python3.8/dist-packages/torch/cuda/__init__.py:497: UserWarning: Can't initialize NVML\n",
            "  warnings.warn(\"Can't initialize NVML\")\n"
          ]
        }
      ],
      "source": [
        "# Import needed packages\n",
        "\n",
        "import json\n",
        "import logging\n",
        "import math\n",
        "import pickle\n",
        "import random\n",
        "import re\n",
        "import sys\n",
        "import spacy\n",
        "\n",
        "import numpy as np\n",
        "import pandas as pd\n",
        "\n",
        "from sklearn.metrics import classification_report, confusion_matrix, accuracy_score, f1_score\n",
        "from sklearn.model_selection import train_test_split\n",
        "from sklearn.preprocessing import LabelBinarizer\n",
        "\n",
        "from seqeval.metrics import f1_score\n",
        "\n",
        "from spacy import displacy\n",
        "from spacy.training.example import Example\n",
        "from spacy.training import offsets_to_biluo_tags\n",
        "\n",
        "from itertools import groupby, chain"
      ]
    },
    {
      "cell_type": "code",
      "source": [
        "# Stop displayin warnings\n",
        "logging.basicConfig(level=logging.INFO, stream=sys.stdout)"
      ],
      "metadata": {
        "id": "8c9WvdkhFFWB"
      },
      "execution_count": 3,
      "outputs": []
    },
    {
      "cell_type": "markdown",
      "source": [
        "## Prepare the data"
      ],
      "metadata": {
        "id": "LPTa8t4YgS6D"
      }
    },
    {
      "cell_type": "markdown",
      "metadata": {
        "id": "krt9bUNfvaO7"
      },
      "source": [
        "The dataset has 220 items of which 220 items have been manually labeled.\n",
        "\n",
        "The labels are divided into following 10 categories:\n",
        "*   Name\n",
        "*   College Name\n",
        "*   Degree\n",
        "*   Graduation Year\n",
        "*   Years of Experience\n",
        "*   Companies worked at\n",
        "*   Designation\n",
        "*   Skills\n",
        "*   Location\n",
        "*   Email Address"
      ]
    },
    {
      "cell_type": "code",
      "execution_count": 4,
      "metadata": {
        "id": "ddov3mUjs_Z2"
      },
      "outputs": [],
      "source": [
        "# Import the data\n",
        "df = pd.read_json ('Entity Recognition in Resumes.json',lines=True)"
      ]
    },
    {
      "cell_type": "code",
      "execution_count": 5,
      "metadata": {
        "colab": {
          "base_uri": "https://localhost:8080/",
          "height": 206
        },
        "id": "b9VNnK9Ltr6u",
        "outputId": "31352a07-e49f-4e38-8b8a-a1dee9d3465f"
      },
      "outputs": [
        {
          "output_type": "execute_result",
          "data": {
            "text/plain": [
              "                                             content  \\\n",
              "0  Abhishek Jha\\nApplication Development Associat...   \n",
              "1  Afreen Jamadar\\nActive member of IIIT Committe...   \n",
              "2  Akhil Yadav Polemaina\\nHyderabad, Telangana - ...   \n",
              "3  Alok Khandai\\nOperational Analyst (SQL DBA) En...   \n",
              "4  Ananya Chavan\\nlecturer - oracle tutorials\\n\\n...   \n",
              "\n",
              "                                          annotation  extras  \n",
              "0  [{'label': ['Skills'], 'points': [{'start': 12...     NaN  \n",
              "1  [{'label': ['Email Address'], 'points': [{'sta...     NaN  \n",
              "2  [{'label': ['Skills'], 'points': [{'start': 37...     NaN  \n",
              "3  [{'label': ['Skills'], 'points': [{'start': 80...     NaN  \n",
              "4  [{'label': ['Degree'], 'points': [{'start': 20...     NaN  "
            ],
            "text/html": [
              "\n",
              "  <div id=\"df-5ef2ee5c-22f8-40f1-a31f-3b4c402add2f\">\n",
              "    <div class=\"colab-df-container\">\n",
              "      <div>\n",
              "<style scoped>\n",
              "    .dataframe tbody tr th:only-of-type {\n",
              "        vertical-align: middle;\n",
              "    }\n",
              "\n",
              "    .dataframe tbody tr th {\n",
              "        vertical-align: top;\n",
              "    }\n",
              "\n",
              "    .dataframe thead th {\n",
              "        text-align: right;\n",
              "    }\n",
              "</style>\n",
              "<table border=\"1\" class=\"dataframe\">\n",
              "  <thead>\n",
              "    <tr style=\"text-align: right;\">\n",
              "      <th></th>\n",
              "      <th>content</th>\n",
              "      <th>annotation</th>\n",
              "      <th>extras</th>\n",
              "    </tr>\n",
              "  </thead>\n",
              "  <tbody>\n",
              "    <tr>\n",
              "      <th>0</th>\n",
              "      <td>Abhishek Jha\\nApplication Development Associat...</td>\n",
              "      <td>[{'label': ['Skills'], 'points': [{'start': 12...</td>\n",
              "      <td>NaN</td>\n",
              "    </tr>\n",
              "    <tr>\n",
              "      <th>1</th>\n",
              "      <td>Afreen Jamadar\\nActive member of IIIT Committe...</td>\n",
              "      <td>[{'label': ['Email Address'], 'points': [{'sta...</td>\n",
              "      <td>NaN</td>\n",
              "    </tr>\n",
              "    <tr>\n",
              "      <th>2</th>\n",
              "      <td>Akhil Yadav Polemaina\\nHyderabad, Telangana - ...</td>\n",
              "      <td>[{'label': ['Skills'], 'points': [{'start': 37...</td>\n",
              "      <td>NaN</td>\n",
              "    </tr>\n",
              "    <tr>\n",
              "      <th>3</th>\n",
              "      <td>Alok Khandai\\nOperational Analyst (SQL DBA) En...</td>\n",
              "      <td>[{'label': ['Skills'], 'points': [{'start': 80...</td>\n",
              "      <td>NaN</td>\n",
              "    </tr>\n",
              "    <tr>\n",
              "      <th>4</th>\n",
              "      <td>Ananya Chavan\\nlecturer - oracle tutorials\\n\\n...</td>\n",
              "      <td>[{'label': ['Degree'], 'points': [{'start': 20...</td>\n",
              "      <td>NaN</td>\n",
              "    </tr>\n",
              "  </tbody>\n",
              "</table>\n",
              "</div>\n",
              "      <button class=\"colab-df-convert\" onclick=\"convertToInteractive('df-5ef2ee5c-22f8-40f1-a31f-3b4c402add2f')\"\n",
              "              title=\"Convert this dataframe to an interactive table.\"\n",
              "              style=\"display:none;\">\n",
              "        \n",
              "  <svg xmlns=\"http://www.w3.org/2000/svg\" height=\"24px\"viewBox=\"0 0 24 24\"\n",
              "       width=\"24px\">\n",
              "    <path d=\"M0 0h24v24H0V0z\" fill=\"none\"/>\n",
              "    <path d=\"M18.56 5.44l.94 2.06.94-2.06 2.06-.94-2.06-.94-.94-2.06-.94 2.06-2.06.94zm-11 1L8.5 8.5l.94-2.06 2.06-.94-2.06-.94L8.5 2.5l-.94 2.06-2.06.94zm10 10l.94 2.06.94-2.06 2.06-.94-2.06-.94-.94-2.06-.94 2.06-2.06.94z\"/><path d=\"M17.41 7.96l-1.37-1.37c-.4-.4-.92-.59-1.43-.59-.52 0-1.04.2-1.43.59L10.3 9.45l-7.72 7.72c-.78.78-.78 2.05 0 2.83L4 21.41c.39.39.9.59 1.41.59.51 0 1.02-.2 1.41-.59l7.78-7.78 2.81-2.81c.8-.78.8-2.07 0-2.86zM5.41 20L4 18.59l7.72-7.72 1.47 1.35L5.41 20z\"/>\n",
              "  </svg>\n",
              "      </button>\n",
              "      \n",
              "  <style>\n",
              "    .colab-df-container {\n",
              "      display:flex;\n",
              "      flex-wrap:wrap;\n",
              "      gap: 12px;\n",
              "    }\n",
              "\n",
              "    .colab-df-convert {\n",
              "      background-color: #E8F0FE;\n",
              "      border: none;\n",
              "      border-radius: 50%;\n",
              "      cursor: pointer;\n",
              "      display: none;\n",
              "      fill: #1967D2;\n",
              "      height: 32px;\n",
              "      padding: 0 0 0 0;\n",
              "      width: 32px;\n",
              "    }\n",
              "\n",
              "    .colab-df-convert:hover {\n",
              "      background-color: #E2EBFA;\n",
              "      box-shadow: 0px 1px 2px rgba(60, 64, 67, 0.3), 0px 1px 3px 1px rgba(60, 64, 67, 0.15);\n",
              "      fill: #174EA6;\n",
              "    }\n",
              "\n",
              "    [theme=dark] .colab-df-convert {\n",
              "      background-color: #3B4455;\n",
              "      fill: #D2E3FC;\n",
              "    }\n",
              "\n",
              "    [theme=dark] .colab-df-convert:hover {\n",
              "      background-color: #434B5C;\n",
              "      box-shadow: 0px 1px 3px 1px rgba(0, 0, 0, 0.15);\n",
              "      filter: drop-shadow(0px 1px 2px rgba(0, 0, 0, 0.3));\n",
              "      fill: #FFFFFF;\n",
              "    }\n",
              "  </style>\n",
              "\n",
              "      <script>\n",
              "        const buttonEl =\n",
              "          document.querySelector('#df-5ef2ee5c-22f8-40f1-a31f-3b4c402add2f button.colab-df-convert');\n",
              "        buttonEl.style.display =\n",
              "          google.colab.kernel.accessAllowed ? 'block' : 'none';\n",
              "\n",
              "        async function convertToInteractive(key) {\n",
              "          const element = document.querySelector('#df-5ef2ee5c-22f8-40f1-a31f-3b4c402add2f');\n",
              "          const dataTable =\n",
              "            await google.colab.kernel.invokeFunction('convertToInteractive',\n",
              "                                                     [key], {});\n",
              "          if (!dataTable) return;\n",
              "\n",
              "          const docLinkHtml = 'Like what you see? Visit the ' +\n",
              "            '<a target=\"_blank\" href=https://colab.research.google.com/notebooks/data_table.ipynb>data table notebook</a>'\n",
              "            + ' to learn more about interactive tables.';\n",
              "          element.innerHTML = '';\n",
              "          dataTable['output_type'] = 'display_data';\n",
              "          await google.colab.output.renderOutput(dataTable, element);\n",
              "          const docLink = document.createElement('div');\n",
              "          docLink.innerHTML = docLinkHtml;\n",
              "          element.appendChild(docLink);\n",
              "        }\n",
              "      </script>\n",
              "    </div>\n",
              "  </div>\n",
              "  "
            ]
          },
          "metadata": {},
          "execution_count": 5
        }
      ],
      "source": [
        "# Display the first ten different lines\n",
        "df.head()"
      ]
    },
    {
      "cell_type": "code",
      "execution_count": 6,
      "metadata": {
        "colab": {
          "base_uri": "https://localhost:8080/",
          "height": 313
        },
        "id": "Ohoiz1Pdtszt",
        "outputId": "477ad120-7549-40c4-e5de-0950ead47be4"
      },
      "outputs": [
        {
          "output_type": "stream",
          "name": "stderr",
          "text": [
            "<ipython-input-6-de3ba67ed165>:3: SettingWithCopyWarning: \n",
            "A value is trying to be set on a copy of a slice from a DataFrame\n",
            "\n",
            "See the caveats in the documentation: https://pandas.pydata.org/pandas-docs/stable/user_guide/indexing.html#returning-a-view-versus-a-copy\n",
            "  df[\"content\"][i] = df[\"content\"][i].replace(\"\\n\", \" \")\n"
          ]
        },
        {
          "output_type": "execute_result",
          "data": {
            "text/plain": [
              "                                             content  \\\n",
              "0  Abhishek Jha Application Development Associate...   \n",
              "1  Afreen Jamadar Active member of IIIT Committee...   \n",
              "2  Akhil Yadav Polemaina Hyderabad, Telangana - E...   \n",
              "3  Alok Khandai Operational Analyst (SQL DBA) Eng...   \n",
              "4  Ananya Chavan lecturer - oracle tutorials  Mum...   \n",
              "\n",
              "                                          annotation  extras  \n",
              "0  [{'label': ['Skills'], 'points': [{'start': 12...     NaN  \n",
              "1  [{'label': ['Email Address'], 'points': [{'sta...     NaN  \n",
              "2  [{'label': ['Skills'], 'points': [{'start': 37...     NaN  \n",
              "3  [{'label': ['Skills'], 'points': [{'start': 80...     NaN  \n",
              "4  [{'label': ['Degree'], 'points': [{'start': 20...     NaN  "
            ],
            "text/html": [
              "\n",
              "  <div id=\"df-7631b471-b675-46a8-a315-5c2158a91e5b\">\n",
              "    <div class=\"colab-df-container\">\n",
              "      <div>\n",
              "<style scoped>\n",
              "    .dataframe tbody tr th:only-of-type {\n",
              "        vertical-align: middle;\n",
              "    }\n",
              "\n",
              "    .dataframe tbody tr th {\n",
              "        vertical-align: top;\n",
              "    }\n",
              "\n",
              "    .dataframe thead th {\n",
              "        text-align: right;\n",
              "    }\n",
              "</style>\n",
              "<table border=\"1\" class=\"dataframe\">\n",
              "  <thead>\n",
              "    <tr style=\"text-align: right;\">\n",
              "      <th></th>\n",
              "      <th>content</th>\n",
              "      <th>annotation</th>\n",
              "      <th>extras</th>\n",
              "    </tr>\n",
              "  </thead>\n",
              "  <tbody>\n",
              "    <tr>\n",
              "      <th>0</th>\n",
              "      <td>Abhishek Jha Application Development Associate...</td>\n",
              "      <td>[{'label': ['Skills'], 'points': [{'start': 12...</td>\n",
              "      <td>NaN</td>\n",
              "    </tr>\n",
              "    <tr>\n",
              "      <th>1</th>\n",
              "      <td>Afreen Jamadar Active member of IIIT Committee...</td>\n",
              "      <td>[{'label': ['Email Address'], 'points': [{'sta...</td>\n",
              "      <td>NaN</td>\n",
              "    </tr>\n",
              "    <tr>\n",
              "      <th>2</th>\n",
              "      <td>Akhil Yadav Polemaina Hyderabad, Telangana - E...</td>\n",
              "      <td>[{'label': ['Skills'], 'points': [{'start': 37...</td>\n",
              "      <td>NaN</td>\n",
              "    </tr>\n",
              "    <tr>\n",
              "      <th>3</th>\n",
              "      <td>Alok Khandai Operational Analyst (SQL DBA) Eng...</td>\n",
              "      <td>[{'label': ['Skills'], 'points': [{'start': 80...</td>\n",
              "      <td>NaN</td>\n",
              "    </tr>\n",
              "    <tr>\n",
              "      <th>4</th>\n",
              "      <td>Ananya Chavan lecturer - oracle tutorials  Mum...</td>\n",
              "      <td>[{'label': ['Degree'], 'points': [{'start': 20...</td>\n",
              "      <td>NaN</td>\n",
              "    </tr>\n",
              "  </tbody>\n",
              "</table>\n",
              "</div>\n",
              "      <button class=\"colab-df-convert\" onclick=\"convertToInteractive('df-7631b471-b675-46a8-a315-5c2158a91e5b')\"\n",
              "              title=\"Convert this dataframe to an interactive table.\"\n",
              "              style=\"display:none;\">\n",
              "        \n",
              "  <svg xmlns=\"http://www.w3.org/2000/svg\" height=\"24px\"viewBox=\"0 0 24 24\"\n",
              "       width=\"24px\">\n",
              "    <path d=\"M0 0h24v24H0V0z\" fill=\"none\"/>\n",
              "    <path d=\"M18.56 5.44l.94 2.06.94-2.06 2.06-.94-2.06-.94-.94-2.06-.94 2.06-2.06.94zm-11 1L8.5 8.5l.94-2.06 2.06-.94-2.06-.94L8.5 2.5l-.94 2.06-2.06.94zm10 10l.94 2.06.94-2.06 2.06-.94-2.06-.94-.94-2.06-.94 2.06-2.06.94z\"/><path d=\"M17.41 7.96l-1.37-1.37c-.4-.4-.92-.59-1.43-.59-.52 0-1.04.2-1.43.59L10.3 9.45l-7.72 7.72c-.78.78-.78 2.05 0 2.83L4 21.41c.39.39.9.59 1.41.59.51 0 1.02-.2 1.41-.59l7.78-7.78 2.81-2.81c.8-.78.8-2.07 0-2.86zM5.41 20L4 18.59l7.72-7.72 1.47 1.35L5.41 20z\"/>\n",
              "  </svg>\n",
              "      </button>\n",
              "      \n",
              "  <style>\n",
              "    .colab-df-container {\n",
              "      display:flex;\n",
              "      flex-wrap:wrap;\n",
              "      gap: 12px;\n",
              "    }\n",
              "\n",
              "    .colab-df-convert {\n",
              "      background-color: #E8F0FE;\n",
              "      border: none;\n",
              "      border-radius: 50%;\n",
              "      cursor: pointer;\n",
              "      display: none;\n",
              "      fill: #1967D2;\n",
              "      height: 32px;\n",
              "      padding: 0 0 0 0;\n",
              "      width: 32px;\n",
              "    }\n",
              "\n",
              "    .colab-df-convert:hover {\n",
              "      background-color: #E2EBFA;\n",
              "      box-shadow: 0px 1px 2px rgba(60, 64, 67, 0.3), 0px 1px 3px 1px rgba(60, 64, 67, 0.15);\n",
              "      fill: #174EA6;\n",
              "    }\n",
              "\n",
              "    [theme=dark] .colab-df-convert {\n",
              "      background-color: #3B4455;\n",
              "      fill: #D2E3FC;\n",
              "    }\n",
              "\n",
              "    [theme=dark] .colab-df-convert:hover {\n",
              "      background-color: #434B5C;\n",
              "      box-shadow: 0px 1px 3px 1px rgba(0, 0, 0, 0.15);\n",
              "      filter: drop-shadow(0px 1px 2px rgba(0, 0, 0, 0.3));\n",
              "      fill: #FFFFFF;\n",
              "    }\n",
              "  </style>\n",
              "\n",
              "      <script>\n",
              "        const buttonEl =\n",
              "          document.querySelector('#df-7631b471-b675-46a8-a315-5c2158a91e5b button.colab-df-convert');\n",
              "        buttonEl.style.display =\n",
              "          google.colab.kernel.accessAllowed ? 'block' : 'none';\n",
              "\n",
              "        async function convertToInteractive(key) {\n",
              "          const element = document.querySelector('#df-7631b471-b675-46a8-a315-5c2158a91e5b');\n",
              "          const dataTable =\n",
              "            await google.colab.kernel.invokeFunction('convertToInteractive',\n",
              "                                                     [key], {});\n",
              "          if (!dataTable) return;\n",
              "\n",
              "          const docLinkHtml = 'Like what you see? Visit the ' +\n",
              "            '<a target=\"_blank\" href=https://colab.research.google.com/notebooks/data_table.ipynb>data table notebook</a>'\n",
              "            + ' to learn more about interactive tables.';\n",
              "          element.innerHTML = '';\n",
              "          dataTable['output_type'] = 'display_data';\n",
              "          await google.colab.output.renderOutput(dataTable, element);\n",
              "          const docLink = document.createElement('div');\n",
              "          docLink.innerHTML = docLinkHtml;\n",
              "          element.appendChild(docLink);\n",
              "        }\n",
              "      </script>\n",
              "    </div>\n",
              "  </div>\n",
              "  "
            ]
          },
          "metadata": {},
          "execution_count": 6
        }
      ],
      "source": [
        "# Remove the \\n of each CV\n",
        "for i in range(len(df)):\n",
        "  df[\"content\"][i] = df[\"content\"][i].replace(\"\\n\", \" \")\n",
        "df.head()"
      ]
    },
    {
      "cell_type": "code",
      "source": [
        "# Remove the 'extras' column \n",
        "df = df.drop(['extras'], axis=1)\n",
        "df.head()"
      ],
      "metadata": {
        "colab": {
          "base_uri": "https://localhost:8080/",
          "height": 206
        },
        "id": "JNgdEFIdQEoi",
        "outputId": "a3ebae34-5649-4ce1-abcc-556a96e9d7cc"
      },
      "execution_count": 7,
      "outputs": [
        {
          "output_type": "execute_result",
          "data": {
            "text/plain": [
              "                                             content  \\\n",
              "0  Abhishek Jha Application Development Associate...   \n",
              "1  Afreen Jamadar Active member of IIIT Committee...   \n",
              "2  Akhil Yadav Polemaina Hyderabad, Telangana - E...   \n",
              "3  Alok Khandai Operational Analyst (SQL DBA) Eng...   \n",
              "4  Ananya Chavan lecturer - oracle tutorials  Mum...   \n",
              "\n",
              "                                          annotation  \n",
              "0  [{'label': ['Skills'], 'points': [{'start': 12...  \n",
              "1  [{'label': ['Email Address'], 'points': [{'sta...  \n",
              "2  [{'label': ['Skills'], 'points': [{'start': 37...  \n",
              "3  [{'label': ['Skills'], 'points': [{'start': 80...  \n",
              "4  [{'label': ['Degree'], 'points': [{'start': 20...  "
            ],
            "text/html": [
              "\n",
              "  <div id=\"df-4f00b26e-9973-414d-bcd1-1c5a42e07cf7\">\n",
              "    <div class=\"colab-df-container\">\n",
              "      <div>\n",
              "<style scoped>\n",
              "    .dataframe tbody tr th:only-of-type {\n",
              "        vertical-align: middle;\n",
              "    }\n",
              "\n",
              "    .dataframe tbody tr th {\n",
              "        vertical-align: top;\n",
              "    }\n",
              "\n",
              "    .dataframe thead th {\n",
              "        text-align: right;\n",
              "    }\n",
              "</style>\n",
              "<table border=\"1\" class=\"dataframe\">\n",
              "  <thead>\n",
              "    <tr style=\"text-align: right;\">\n",
              "      <th></th>\n",
              "      <th>content</th>\n",
              "      <th>annotation</th>\n",
              "    </tr>\n",
              "  </thead>\n",
              "  <tbody>\n",
              "    <tr>\n",
              "      <th>0</th>\n",
              "      <td>Abhishek Jha Application Development Associate...</td>\n",
              "      <td>[{'label': ['Skills'], 'points': [{'start': 12...</td>\n",
              "    </tr>\n",
              "    <tr>\n",
              "      <th>1</th>\n",
              "      <td>Afreen Jamadar Active member of IIIT Committee...</td>\n",
              "      <td>[{'label': ['Email Address'], 'points': [{'sta...</td>\n",
              "    </tr>\n",
              "    <tr>\n",
              "      <th>2</th>\n",
              "      <td>Akhil Yadav Polemaina Hyderabad, Telangana - E...</td>\n",
              "      <td>[{'label': ['Skills'], 'points': [{'start': 37...</td>\n",
              "    </tr>\n",
              "    <tr>\n",
              "      <th>3</th>\n",
              "      <td>Alok Khandai Operational Analyst (SQL DBA) Eng...</td>\n",
              "      <td>[{'label': ['Skills'], 'points': [{'start': 80...</td>\n",
              "    </tr>\n",
              "    <tr>\n",
              "      <th>4</th>\n",
              "      <td>Ananya Chavan lecturer - oracle tutorials  Mum...</td>\n",
              "      <td>[{'label': ['Degree'], 'points': [{'start': 20...</td>\n",
              "    </tr>\n",
              "  </tbody>\n",
              "</table>\n",
              "</div>\n",
              "      <button class=\"colab-df-convert\" onclick=\"convertToInteractive('df-4f00b26e-9973-414d-bcd1-1c5a42e07cf7')\"\n",
              "              title=\"Convert this dataframe to an interactive table.\"\n",
              "              style=\"display:none;\">\n",
              "        \n",
              "  <svg xmlns=\"http://www.w3.org/2000/svg\" height=\"24px\"viewBox=\"0 0 24 24\"\n",
              "       width=\"24px\">\n",
              "    <path d=\"M0 0h24v24H0V0z\" fill=\"none\"/>\n",
              "    <path d=\"M18.56 5.44l.94 2.06.94-2.06 2.06-.94-2.06-.94-.94-2.06-.94 2.06-2.06.94zm-11 1L8.5 8.5l.94-2.06 2.06-.94-2.06-.94L8.5 2.5l-.94 2.06-2.06.94zm10 10l.94 2.06.94-2.06 2.06-.94-2.06-.94-.94-2.06-.94 2.06-2.06.94z\"/><path d=\"M17.41 7.96l-1.37-1.37c-.4-.4-.92-.59-1.43-.59-.52 0-1.04.2-1.43.59L10.3 9.45l-7.72 7.72c-.78.78-.78 2.05 0 2.83L4 21.41c.39.39.9.59 1.41.59.51 0 1.02-.2 1.41-.59l7.78-7.78 2.81-2.81c.8-.78.8-2.07 0-2.86zM5.41 20L4 18.59l7.72-7.72 1.47 1.35L5.41 20z\"/>\n",
              "  </svg>\n",
              "      </button>\n",
              "      \n",
              "  <style>\n",
              "    .colab-df-container {\n",
              "      display:flex;\n",
              "      flex-wrap:wrap;\n",
              "      gap: 12px;\n",
              "    }\n",
              "\n",
              "    .colab-df-convert {\n",
              "      background-color: #E8F0FE;\n",
              "      border: none;\n",
              "      border-radius: 50%;\n",
              "      cursor: pointer;\n",
              "      display: none;\n",
              "      fill: #1967D2;\n",
              "      height: 32px;\n",
              "      padding: 0 0 0 0;\n",
              "      width: 32px;\n",
              "    }\n",
              "\n",
              "    .colab-df-convert:hover {\n",
              "      background-color: #E2EBFA;\n",
              "      box-shadow: 0px 1px 2px rgba(60, 64, 67, 0.3), 0px 1px 3px 1px rgba(60, 64, 67, 0.15);\n",
              "      fill: #174EA6;\n",
              "    }\n",
              "\n",
              "    [theme=dark] .colab-df-convert {\n",
              "      background-color: #3B4455;\n",
              "      fill: #D2E3FC;\n",
              "    }\n",
              "\n",
              "    [theme=dark] .colab-df-convert:hover {\n",
              "      background-color: #434B5C;\n",
              "      box-shadow: 0px 1px 3px 1px rgba(0, 0, 0, 0.15);\n",
              "      filter: drop-shadow(0px 1px 2px rgba(0, 0, 0, 0.3));\n",
              "      fill: #FFFFFF;\n",
              "    }\n",
              "  </style>\n",
              "\n",
              "      <script>\n",
              "        const buttonEl =\n",
              "          document.querySelector('#df-4f00b26e-9973-414d-bcd1-1c5a42e07cf7 button.colab-df-convert');\n",
              "        buttonEl.style.display =\n",
              "          google.colab.kernel.accessAllowed ? 'block' : 'none';\n",
              "\n",
              "        async function convertToInteractive(key) {\n",
              "          const element = document.querySelector('#df-4f00b26e-9973-414d-bcd1-1c5a42e07cf7');\n",
              "          const dataTable =\n",
              "            await google.colab.kernel.invokeFunction('convertToInteractive',\n",
              "                                                     [key], {});\n",
              "          if (!dataTable) return;\n",
              "\n",
              "          const docLinkHtml = 'Like what you see? Visit the ' +\n",
              "            '<a target=\"_blank\" href=https://colab.research.google.com/notebooks/data_table.ipynb>data table notebook</a>'\n",
              "            + ' to learn more about interactive tables.';\n",
              "          element.innerHTML = '';\n",
              "          dataTable['output_type'] = 'display_data';\n",
              "          await google.colab.output.renderOutput(dataTable, element);\n",
              "          const docLink = document.createElement('div');\n",
              "          docLink.innerHTML = docLinkHtml;\n",
              "          element.appendChild(docLink);\n",
              "        }\n",
              "      </script>\n",
              "    </div>\n",
              "  </div>\n",
              "  "
            ]
          },
          "metadata": {},
          "execution_count": 7
        }
      ]
    },
    {
      "cell_type": "code",
      "execution_count": 8,
      "metadata": {
        "id": "qAkHjMyJxr07"
      },
      "outputs": [],
      "source": [
        "# JSON formatting functions\n",
        "def convert_dataturks_to_spacy(dataturks_JSON_FilePath):\n",
        "  \"\"\"Convert data to SpaCy format.\n",
        "  Args:\n",
        "    dataturks_JSON_FilePath (String): The path to the JSON file.\n",
        "\n",
        "  Returns:\n",
        "    list: The training data.\n",
        "  \"\"\"\n",
        "  \n",
        "  try:\n",
        "    training_data = []\n",
        "    lines=[]\n",
        "    with open(dataturks_JSON_FilePath, 'r') as f:\n",
        "      lines = f.readlines()\n",
        "\n",
        "    for line in lines:\n",
        "      data = json.loads(line)\n",
        "      text = data['content'].replace(\"\\n\", \" \")\n",
        "      entities = []\n",
        "      data_annotations = data['annotation']\n",
        "      if data_annotations is not None:\n",
        "        for annotation in data_annotations:\n",
        "          # Only a single point in text annotation.\n",
        "          point = annotation['points'][0]\n",
        "          labels = annotation['label']\n",
        "          # Handle both list of labels or a single label.\n",
        "          if not isinstance(labels, list):\n",
        "            labels = [labels]\n",
        "\n",
        "          for label in labels:\n",
        "            point_start = point['start']\n",
        "            point_end = point['end']\n",
        "            point_text = point['text']\n",
        "                        \n",
        "            lstrip_diff = len(point_text) - len(point_text.lstrip())\n",
        "            rstrip_diff = len(point_text) - len(point_text.rstrip())\n",
        "            if lstrip_diff != 0:\n",
        "                            point_start = point_start + lstrip_diff\n",
        "            if rstrip_diff != 0:\n",
        "                            point_end = point_end - rstrip_diff\n",
        "            entities.append((point_start, point_end + 1 , label))\n",
        "      training_data.append((text, {\"entities\" : entities}))\n",
        "    return training_data\n",
        "  except Exception as e:\n",
        "    logging.exception(\"Unable to process \" + dataturks_JSON_FilePath + \"\\n\" + \"error = \" + str(e))\n",
        "    return None "
      ]
    },
    {
      "cell_type": "code",
      "execution_count": 9,
      "metadata": {
        "id": "nKQT2gpvx4jn"
      },
      "outputs": [],
      "source": [
        "# Remove extra spaces from each CV\n",
        "def trim_entity_spans(data: list) -> list:\n",
        "  \"\"\"Removes leading and trailing white spaces from entity spans.\n",
        "  Args:\n",
        "    data (list): The data to be cleaned in spaCy JSON format.\n",
        "\n",
        "  Returns:\n",
        "    list: The cleaned data.\n",
        "  \"\"\"\n",
        "  \n",
        "  invalid_span_tokens = re.compile(r'\\s')\n",
        "\n",
        "  cleaned_data = []\n",
        "  for text, annotations in data:\n",
        "    entities = annotations['entities']\n",
        "    valid_entities = []\n",
        "    for start, end, label in entities:\n",
        "      valid_start = start\n",
        "      valid_end = end\n",
        "      while valid_start < len(text) and invalid_span_tokens.match(text[valid_start]):\n",
        "        valid_start += 1\n",
        "      while valid_end > 1 and invalid_span_tokens.match(text[valid_end - 1]):\n",
        "        valid_end -= 1\n",
        "      valid_entities.append([valid_start, valid_end, label])\n",
        "    cleaned_data.append([text, {'entities': valid_entities}])\n",
        "  return cleaned_data"
      ]
    },
    {
      "cell_type": "code",
      "execution_count": 10,
      "metadata": {
        "id": "UZChkBfcyWDc"
      },
      "outputs": [],
      "source": [
        "# Get each line of the file\n",
        "with open('Entity Recognition in Resumes.json', 'r') as f:\n",
        "      lines = f.readlines()"
      ]
    },
    {
      "cell_type": "code",
      "execution_count": 11,
      "metadata": {
        "colab": {
          "base_uri": "https://localhost:8080/"
        },
        "id": "NWVSDh-iyZrS",
        "outputId": "13ee64bb-65ad-438f-d3b9-db5b1ad2cdc4"
      },
      "outputs": [
        {
          "output_type": "execute_result",
          "data": {
            "text/plain": [
              "[\"Abhishek Jha Application Development Associate - Accenture  Bengaluru, Karnataka - Email me on Indeed: indeed.com/r/Abhishek-Jha/10e7a8cb732bc43a  • To work for an organization which provides me the opportunity to improve my skills and knowledge for my individual and company's growth in best possible ways.  Willing to relocate to: Bangalore, Karnataka  WORK EXPERIENCE  Application Development Associate  Accenture -  November 2017 to Present  Role: Currently working on Chat-bot. Developing Backend Oracle PeopleSoft Queries for the Bot which will be triggered based on given input. Also, Training the bot for different possible utterances (Both positive and negative), which will be given as input by the user.  EDUCATION  B.E in Information science and engineering  B.v.b college of engineering and technology -  Hubli, Karnataka  August 2013 to June 2017  12th in Mathematics  Woodbine modern school  April 2011 to March 2013  10th  Kendriya Vidyalaya  April 2001 to March 2011  SKILLS  C (Less than 1 year), Database (Less than 1 year), Database Management (Less than 1 year), Database Management System (Less than 1 year), Java (Less than 1 year)  ADDITIONAL INFORMATION  Technical Skills  https://www.indeed.com/r/Abhishek-Jha/10e7a8cb732bc43a?isid=rex-download&ikw=download-top&co=IN   • Programming language: C, C++, Java • Oracle PeopleSoft • Internet Of Things • Machine Learning • Database Management System • Computer Networks • Operating System worked on: Linux, Windows, Mac  Non - Technical Skills  • Honest and Hard-Working • Tolerant and Flexible to Different Situations • Polite and Calm • Team-Player\",\n",
              " {'entities': [[1296, 1622, 'Skills'],\n",
              "   [993, 1154, 'Skills'],\n",
              "   [939, 957, 'College Name'],\n",
              "   [883, 905, 'College Name'],\n",
              "   [856, 860, 'Graduation Year'],\n",
              "   [771, 814, 'College Name'],\n",
              "   [727, 769, 'Designation'],\n",
              "   [407, 416, 'Companies worked at'],\n",
              "   [372, 405, 'Designation'],\n",
              "   [95, 145, 'Email Address'],\n",
              "   [60, 69, 'Location'],\n",
              "   [49, 58, 'Companies worked at'],\n",
              "   [13, 46, 'Designation'],\n",
              "   [0, 12, 'Name']]}]"
            ]
          },
          "metadata": {},
          "execution_count": 11
        }
      ],
      "source": [
        "# Clean the data\n",
        "data = trim_entity_spans(convert_dataturks_to_spacy('Entity Recognition in Resumes.json'))\n",
        "data[0]"
      ]
    },
    {
      "cell_type": "code",
      "execution_count": 12,
      "metadata": {
        "id": "xHuiaDxY6ZKx"
      },
      "outputs": [],
      "source": [
        "# Clean the annotated data\n",
        "def clean_entities(training_data):\n",
        "  \"\"\"Removes overlapping entities.\n",
        "  Args:\n",
        "    training_data (list): The training data in SpaCy format.\n",
        "\n",
        "  Returns:\n",
        "    list: The cleaned data (with no overlapping entities).\n",
        "  \"\"\"\n",
        "\n",
        "  clean_data = []\n",
        "  for text, annotation in training_data:\n",
        "        \n",
        "    entities = annotation.get('entities')\n",
        "    entities_copy = entities.copy()\n",
        "        \n",
        "    # Append entity only if it is longer than its overlapping entity\n",
        "    i = 0\n",
        "    for entity in entities_copy:\n",
        "      j = 0\n",
        "      for overlapping_entity in entities_copy:\n",
        "        # Skip self\n",
        "        if i != j:\n",
        "          e_start, e_end, oe_start, oe_end = entity[0], entity[1], overlapping_entity[0], overlapping_entity[1]\n",
        "          # Delete any entity that overlaps, keep if longer\n",
        "          if ((e_start >= oe_start and e_start <= oe_end) \\\n",
        "          or (e_end <= oe_end and e_end >= oe_start)) \\\n",
        "          and ((e_end - e_start) <= (oe_end - oe_start)):\n",
        "            entities.remove(entity)\n",
        "        j += 1\n",
        "      i += 1\n",
        "    clean_data.append((text, {'entities': entities}))\n",
        "                \n",
        "  return clean_data"
      ]
    },
    {
      "cell_type": "code",
      "execution_count": 13,
      "metadata": {
        "id": "efSZy5QW6a5i"
      },
      "outputs": [],
      "source": [
        "# Clean the data\n",
        "data = clean_entities(data)"
      ]
    },
    {
      "cell_type": "code",
      "execution_count": 14,
      "metadata": {
        "id": "AV_q4cQb1YzJ"
      },
      "outputs": [],
      "source": [
        "# Split the data\n",
        "def train_test_split(data, test_size, random_state):\n",
        "  \"\"\"Split the data into train and test sets.\n",
        "  Args:\n",
        "    data (list): The cleaned data.\n",
        "    test_size (number): The size of the test set.\n",
        "    random_state (number): The radnom state number (for sets reproduction).\n",
        "\n",
        "  Returns:\n",
        "    list: The train data.\n",
        "    list: The test data.\n",
        "  \"\"\"\n",
        "  \n",
        "  random.Random(random_state).shuffle(data)\n",
        "  test_idx = len(data) - math.floor(test_size * len(data))\n",
        "  train_set = data[0: test_idx]\n",
        "  test_set = data[test_idx: ]\n",
        "  return train_set, test_set"
      ]
    },
    {
      "cell_type": "code",
      "execution_count": 15,
      "metadata": {
        "id": "TQ2X7mEX1rDD"
      },
      "outputs": [],
      "source": [
        "# Get the train and test sets\n",
        "train_data, test_data = train_test_split(data, test_size = 0.2, random_state = 42)"
      ]
    },
    {
      "cell_type": "markdown",
      "source": [
        "## Train the NER model"
      ],
      "metadata": {
        "id": "WSDxcvgpgddL"
      }
    },
    {
      "cell_type": "code",
      "execution_count": 16,
      "metadata": {
        "id": "tk-LTCUw1taL"
      },
      "outputs": [],
      "source": [
        "# Training function\n",
        "def train_spacy():\n",
        "  \"\"\"Train the ner model baesd on the training data.\n",
        "  Returns:\n",
        "    object: The ner object.\n",
        "  \"\"\"  \n",
        "\n",
        "  nlp = spacy.blank('en')  # Create blank Language class\n",
        "  # Create the built-in pipeline components and add them to the pipeline\n",
        "  # nlp.create_pipe works for built-ins that are registered with spaCy\n",
        "  if 'ner' not in nlp.pipe_names:\n",
        "    # ner = nlp.create_pipe('ner')\n",
        "    ner = nlp.add_pipe(\"ner\", last=True)\n",
        "        \n",
        "  # Add labels\n",
        "  for _, annotations in train_data:\n",
        "    for ent in annotations.get(\"entities\"):\n",
        "      ner.add_label(ent[2])\n",
        "            \n",
        "  # Get names of other pipes to disable them during training\n",
        "  other_pipes = [pipe for pipe in nlp.pipe_names if pipe != 'ner']\n",
        "  with nlp.disable_pipes(*other_pipes):  # Only train NER\n",
        "    optimizer = nlp.begin_training()\n",
        "    for itn in range(10):\n",
        "      print(\"Statring iteration \" + str(itn))\n",
        "      random.shuffle(train_data)\n",
        "      losses = {}\n",
        "      for text, annotations in train_data:\n",
        "        doc = nlp.make_doc(text)\n",
        "        example = Example.from_dict(doc, annotations)\n",
        "        # Update the model\n",
        "        nlp.update([example], losses=losses, drop=0.3, sgd=optimizer)\n",
        "      print(losses)\n",
        "      print(\"----------------------------\")\n",
        "  return nlp"
      ]
    },
    {
      "cell_type": "code",
      "execution_count": 17,
      "metadata": {
        "colab": {
          "base_uri": "https://localhost:8080/"
        },
        "id": "K_EcCVXk28Ow",
        "outputId": "496b57fc-6d67-4cb7-b7e0-72a684e96d7c"
      },
      "outputs": [
        {
          "output_type": "stream",
          "name": "stdout",
          "text": [
            "Statring iteration 0\n"
          ]
        },
        {
          "output_type": "stream",
          "name": "stderr",
          "text": [
            "/usr/local/lib/python3.8/dist-packages/spacy/training/iob_utils.py:149: UserWarning: [W030] Some entities could not be aligned in the text \"Karthik Gururaj Technical Lead at Infosys Ltd. - P...\" with entities \"[[2814, 2839, 'Degree'], [2773, 2812, 'Degree'], [...\". Use `spacy.training.offsets_to_biluo_tags(nlp.make_doc(text), entities)` to check the alignment. Misaligned entities ('-') will be ignored during training.\n",
            "  warnings.warn(\n",
            "/usr/local/lib/python3.8/dist-packages/spacy/training/iob_utils.py:149: UserWarning: [W030] Some entities could not be aligned in the text \"Rupesh Reddy Technology Consultant - EIT Services ...\" with entities \"[[6733, 6848, 'Skills'], [6703, 6705, 'Graduation ...\". Use `spacy.training.offsets_to_biluo_tags(nlp.make_doc(text), entities)` to check the alignment. Misaligned entities ('-') will be ignored during training.\n",
            "  warnings.warn(\n",
            "/usr/local/lib/python3.8/dist-packages/spacy/training/iob_utils.py:149: UserWarning: [W030] Some entities could not be aligned in the text \"Siddhartha Chetri 7 years of experience in IT Netw...\" with entities \"[[5471, 5838, 'Skills'], [5457, 5461, 'Graduation ...\". Use `spacy.training.offsets_to_biluo_tags(nlp.make_doc(text), entities)` to check the alignment. Misaligned entities ('-') will be ignored during training.\n",
            "  warnings.warn(\n",
            "/usr/local/lib/python3.8/dist-packages/spacy/training/iob_utils.py:149: UserWarning: [W030] Some entities could not be aligned in the text \"Senthil Kumar Senior Technical Lead - HCL Cisco  -...\" with entities \"[[6646, 7279, 'Skills'], [6451, 6554, 'Skills'], [...\". Use `spacy.training.offsets_to_biluo_tags(nlp.make_doc(text), entities)` to check the alignment. Misaligned entities ('-') will be ignored during training.\n",
            "  warnings.warn(\n",
            "/usr/local/lib/python3.8/dist-packages/spacy/training/iob_utils.py:149: UserWarning: [W030] Some entities could not be aligned in the text \"Shreyanshu Gupta Software Development Engineer wit...\" with entities \"[[4167, 4170, 'Skills'], [4141, 4145, 'Skills'], [...\". Use `spacy.training.offsets_to_biluo_tags(nlp.make_doc(text), entities)` to check the alignment. Misaligned entities ('-') will be ignored during training.\n",
            "  warnings.warn(\n",
            "/usr/local/lib/python3.8/dist-packages/spacy/training/iob_utils.py:149: UserWarning: [W030] Some entities could not be aligned in the text \"Imgeeyaul Ansari java developer  Pune, Maharashtra...\" with entities \"[[1894, 2173, 'Skills'], [1726, 1850, 'Skills'], [...\". Use `spacy.training.offsets_to_biluo_tags(nlp.make_doc(text), entities)` to check the alignment. Misaligned entities ('-') will be ignored during training.\n",
            "  warnings.warn(\n",
            "/usr/local/lib/python3.8/dist-packages/spacy/training/iob_utils.py:149: UserWarning: [W030] Some entities could not be aligned in the text \"Anurag Asthana Pune, Maharashtra - Email me on Ind...\" with entities \"[[7675, 7692, 'Years of Experience'], [7133, 7595,...\". Use `spacy.training.offsets_to_biluo_tags(nlp.make_doc(text), entities)` to check the alignment. Misaligned entities ('-') will be ignored during training.\n",
            "  warnings.warn(\n",
            "/usr/local/lib/python3.8/dist-packages/spacy/training/iob_utils.py:149: UserWarning: [W030] Some entities could not be aligned in the text \"Nidhi Pandit Test Engineer - Infosys Limited  - Em...\" with entities \"[[3132, 3611, 'Skills'], [3005, 3082, 'Skills'], [...\". Use `spacy.training.offsets_to_biluo_tags(nlp.make_doc(text), entities)` to check the alignment. Misaligned entities ('-') will be ignored during training.\n",
            "  warnings.warn(\n",
            "/usr/local/lib/python3.8/dist-packages/spacy/training/iob_utils.py:149: UserWarning: [W030] Some entities could not be aligned in the text \"Urshila Lohani Senior Corporate Account Executive ...\" with entities \"[[2635, 2639, 'Graduation Year'], [2568, 2590, 'Co...\". Use `spacy.training.offsets_to_biluo_tags(nlp.make_doc(text), entities)` to check the alignment. Misaligned entities ('-') will be ignored during training.\n",
            "  warnings.warn(\n",
            "/usr/local/lib/python3.8/dist-packages/spacy/training/iob_utils.py:149: UserWarning: [W030] Some entities could not be aligned in the text \"Ravi Shankar Working as Escalation Engineer with M...\" with entities \"[[4016, 4025, 'Companies worked at'], [3941, 3950,...\". Use `spacy.training.offsets_to_biluo_tags(nlp.make_doc(text), entities)` to check the alignment. Misaligned entities ('-') will be ignored during training.\n",
            "  warnings.warn(\n",
            "/usr/local/lib/python3.8/dist-packages/spacy/training/iob_utils.py:149: UserWarning: [W030] Some entities could not be aligned in the text \"Akshay Dubey Actively looking for opportunity in ....\" with entities \"[[2889, 3087, 'Skills'], [2734, 2845, 'Skills'], [...\". Use `spacy.training.offsets_to_biluo_tags(nlp.make_doc(text), entities)` to check the alignment. Misaligned entities ('-') will be ignored during training.\n",
            "  warnings.warn(\n",
            "/usr/local/lib/python3.8/dist-packages/spacy/training/iob_utils.py:149: UserWarning: [W030] Some entities could not be aligned in the text \"Ravi Shivgond Bidar, Karnataka - Email me on Indee...\" with entities \"[[1341, 1384, 'Email Address'], [1131, 1136, 'Loca...\". Use `spacy.training.offsets_to_biluo_tags(nlp.make_doc(text), entities)` to check the alignment. Misaligned entities ('-') will be ignored during training.\n",
            "  warnings.warn(\n",
            "/usr/local/lib/python3.8/dist-packages/spacy/training/iob_utils.py:149: UserWarning: [W030] Some entities could not be aligned in the text \"Ashok Kunam Team Lead - Microsoft  - Email me on I...\" with entities \"[[4197, 4960, 'Skills'], [3913, 4045, 'Skills'], [...\". Use `spacy.training.offsets_to_biluo_tags(nlp.make_doc(text), entities)` to check the alignment. Misaligned entities ('-') will be ignored during training.\n",
            "  warnings.warn(\n",
            "/usr/local/lib/python3.8/dist-packages/spacy/training/iob_utils.py:149: UserWarning: [W030] Some entities could not be aligned in the text \"Sanand Pal SQL and MSBI Developer with experience ...\" with entities \"[[3056, 3090, 'Skills'], [3042, 3046, 'Graduation ...\". Use `spacy.training.offsets_to_biluo_tags(nlp.make_doc(text), entities)` to check the alignment. Misaligned entities ('-') will be ignored during training.\n",
            "  warnings.warn(\n",
            "/usr/local/lib/python3.8/dist-packages/spacy/training/iob_utils.py:149: UserWarning: [W030] Some entities could not be aligned in the text \"Nida Khan Tech Support Executive - Teleperformance...\" with entities \"[[872, 911, 'Email Address'], [800, 858, 'Skills']...\". Use `spacy.training.offsets_to_biluo_tags(nlp.make_doc(text), entities)` to check the alignment. Misaligned entities ('-') will be ignored during training.\n",
            "  warnings.warn(\n",
            "/usr/local/lib/python3.8/dist-packages/spacy/training/iob_utils.py:149: UserWarning: [W030] Some entities could not be aligned in the text \"Soumya Balan IT SUPPORT  Sulthan Bathery, Kerala, ...\" with entities \"[[3913, 4370, 'Skills'], [3884, 3880, 'Graduation ...\". Use `spacy.training.offsets_to_biluo_tags(nlp.make_doc(text), entities)` to check the alignment. Misaligned entities ('-') will be ignored during training.\n",
            "  warnings.warn(\n",
            "/usr/local/lib/python3.8/dist-packages/spacy/training/iob_utils.py:149: UserWarning: [W030] Some entities could not be aligned in the text \"Vinay Singhal New Delhi, Delhi - Email me on Indee...\" with entities \"[[937, 980, 'Email Address'], [580, 923, 'Skills']...\". Use `spacy.training.offsets_to_biluo_tags(nlp.make_doc(text), entities)` to check the alignment. Misaligned entities ('-') will be ignored during training.\n",
            "  warnings.warn(\n",
            "/usr/local/lib/python3.8/dist-packages/spacy/training/iob_utils.py:149: UserWarning: [W030] Some entities could not be aligned in the text \"Pavithra M \"Infosys\" internship  Bengaluru, Karnat...\" with entities \"[[998, 1038, 'Email Address'], [611, 984, 'Skills'...\". Use `spacy.training.offsets_to_biluo_tags(nlp.make_doc(text), entities)` to check the alignment. Misaligned entities ('-') will be ignored during training.\n",
            "  warnings.warn(\n",
            "/usr/local/lib/python3.8/dist-packages/spacy/training/iob_utils.py:149: UserWarning: [W030] Some entities could not be aligned in the text \"Sudaya Puranik Principal Engineer Technical Staff ...\" with entities \"[[2656, 2688, 'Skills'], [2586, 2626, 'College Nam...\". Use `spacy.training.offsets_to_biluo_tags(nlp.make_doc(text), entities)` to check the alignment. Misaligned entities ('-') will be ignored during training.\n",
            "  warnings.warn(\n",
            "/usr/local/lib/python3.8/dist-packages/spacy/training/iob_utils.py:149: UserWarning: [W030] Some entities could not be aligned in the text \"Akansha Jain Pune, Maharashtra - Email me on Indee...\" with entities \"[[1860, 1871, 'Name'], [1502, 1600, 'Skills'], [12...\". Use `spacy.training.offsets_to_biluo_tags(nlp.make_doc(text), entities)` to check the alignment. Misaligned entities ('-') will be ignored during training.\n",
            "  warnings.warn(\n",
            "/usr/local/lib/python3.8/dist-packages/spacy/training/iob_utils.py:149: UserWarning: [W030] Some entities could not be aligned in the text \"Avani Priya - Email me on Indeed: indeed.com/r/Ava...\" with entities \"[[368, 409, 'Email Address'], [314, 334, 'College ...\". Use `spacy.training.offsets_to_biluo_tags(nlp.make_doc(text), entities)` to check the alignment. Misaligned entities ('-') will be ignored during training.\n",
            "  warnings.warn(\n",
            "/usr/local/lib/python3.8/dist-packages/spacy/training/iob_utils.py:149: UserWarning: [W030] Some entities could not be aligned in the text \"amarjyot sodhi Voice and Accent Trainer :Masters i...\" with entities \"[[1130, 1174, 'Email Address'], [1112, 1116, 'Grad...\". Use `spacy.training.offsets_to_biluo_tags(nlp.make_doc(text), entities)` to check the alignment. Misaligned entities ('-') will be ignored during training.\n",
            "  warnings.warn(\n",
            "/usr/local/lib/python3.8/dist-packages/spacy/training/iob_utils.py:149: UserWarning: [W030] Some entities could not be aligned in the text \"Dhanushkodi Raj Technology Analyst - Infosys Limit...\" with entities \"[[11663, 12212, 'Skills'], [11476, 11558, 'Skills'...\". Use `spacy.training.offsets_to_biluo_tags(nlp.make_doc(text), entities)` to check the alignment. Misaligned entities ('-') will be ignored during training.\n",
            "  warnings.warn(\n",
            "/usr/local/lib/python3.8/dist-packages/spacy/training/iob_utils.py:149: UserWarning: [W030] Some entities could not be aligned in the text \"Priyesh Dubey Azure Developer with 9 Yrs 8 months ...\" with entities \"[[2537, 2756, 'Skills'], [2416, 2493, 'Skills'], [...\". Use `spacy.training.offsets_to_biluo_tags(nlp.make_doc(text), entities)` to check the alignment. Misaligned entities ('-') will be ignored during training.\n",
            "  warnings.warn(\n",
            "/usr/local/lib/python3.8/dist-packages/spacy/training/iob_utils.py:149: UserWarning: [W030] Some entities could not be aligned in the text \"Mayank Shukla Infosys group as a Test Analyst - In...\" with entities \"[[2348, 3131, 'Skills'], [2324, 2328, 'Graduation ...\". Use `spacy.training.offsets_to_biluo_tags(nlp.make_doc(text), entities)` to check the alignment. Misaligned entities ('-') will be ignored during training.\n",
            "  warnings.warn(\n",
            "/usr/local/lib/python3.8/dist-packages/spacy/training/iob_utils.py:149: UserWarning: [W030] Some entities could not be aligned in the text \"Soumya Balan IT SUPPORT  Sulthan Bathery, Kerala, ...\" with entities \"[[4167, 4176, 'Companies worked at'], [3913, 4040,...\". Use `spacy.training.offsets_to_biluo_tags(nlp.make_doc(text), entities)` to check the alignment. Misaligned entities ('-') will be ignored during training.\n",
            "  warnings.warn(\n",
            "/usr/local/lib/python3.8/dist-packages/spacy/training/iob_utils.py:149: UserWarning: [W030] Some entities could not be aligned in the text \"Sai Dhir - Email me on Indeed: indeed.com/r/Sai-Dh...\" with entities \"[[2956, 3016, 'Skills'], [2567, 2952, 'Skills'], [...\". Use `spacy.training.offsets_to_biluo_tags(nlp.make_doc(text), entities)` to check the alignment. Misaligned entities ('-') will be ignored during training.\n",
            "  warnings.warn(\n",
            "/usr/local/lib/python3.8/dist-packages/spacy/training/iob_utils.py:149: UserWarning: [W030] Some entities could not be aligned in the text \"Karthik G V Program Manager, Product Manager, Prod...\" with entities \"[[1750, 1759, 'Companies worked at'], [1467, 1476,...\". Use `spacy.training.offsets_to_biluo_tags(nlp.make_doc(text), entities)` to check the alignment. Misaligned entities ('-') will be ignored during training.\n",
            "  warnings.warn(\n",
            "/usr/local/lib/python3.8/dist-packages/spacy/training/iob_utils.py:149: UserWarning: [W030] Some entities could not be aligned in the text \"Sridevi H Bangalore, Karnataka - Email me on Indee...\" with entities \"[[2473, 2498, 'Designation'], [2030, 2037, 'Compan...\". Use `spacy.training.offsets_to_biluo_tags(nlp.make_doc(text), entities)` to check the alignment. Misaligned entities ('-') will be ignored during training.\n",
            "  warnings.warn(\n",
            "/usr/local/lib/python3.8/dist-packages/spacy/training/iob_utils.py:149: UserWarning: [W030] Some entities could not be aligned in the text \"Dilliraja Baskaran Tamil Nadu - Email me on Indeed...\" with entities \"[[363, 411, 'Email Address'], [314, 349, 'Skills']...\". Use `spacy.training.offsets_to_biluo_tags(nlp.make_doc(text), entities)` to check the alignment. Misaligned entities ('-') will be ignored during training.\n",
            "  warnings.warn(\n",
            "/usr/local/lib/python3.8/dist-packages/spacy/training/iob_utils.py:149: UserWarning: [W030] Some entities could not be aligned in the text \"Alok Khandai Operational Analyst (SQL DBA) Enginee...\" with entities \"[[8098, 8384, 'Skills'], [8008, 8050, 'Skills'], [...\". Use `spacy.training.offsets_to_biluo_tags(nlp.make_doc(text), entities)` to check the alignment. Misaligned entities ('-') will be ignored during training.\n",
            "  warnings.warn(\n",
            "/usr/local/lib/python3.8/dist-packages/spacy/training/iob_utils.py:149: UserWarning: [W030] Some entities could not be aligned in the text \"Ganesh AlalaSundaram A Dev-Test Professional with ...\" with entities \"[[3321, 3376, 'Skills'], [3296, 3311, 'College Nam...\". Use `spacy.training.offsets_to_biluo_tags(nlp.make_doc(text), entities)` to check the alignment. Misaligned entities ('-') will be ignored during training.\n",
            "  warnings.warn(\n",
            "/usr/local/lib/python3.8/dist-packages/spacy/training/iob_utils.py:149: UserWarning: [W030] Some entities could not be aligned in the text \"Kavitha K Senior System Engineer - Infosys Limited...\" with entities \"[[2292, 2296, 'Graduation Year'], [2245, 2269, 'Co...\". Use `spacy.training.offsets_to_biluo_tags(nlp.make_doc(text), entities)` to check the alignment. Misaligned entities ('-') will be ignored during training.\n",
            "  warnings.warn(\n",
            "/usr/local/lib/python3.8/dist-packages/spacy/training/iob_utils.py:149: UserWarning: [W030] Some entities could not be aligned in the text \"Ananya Chavan lecturer - oracle tutorials  Mumbai,...\" with entities \"[[2010, 2013, 'Degree'], [973, 1703, 'Skills'], [9...\". Use `spacy.training.offsets_to_biluo_tags(nlp.make_doc(text), entities)` to check the alignment. Misaligned entities ('-') will be ignored during training.\n",
            "  warnings.warn(\n",
            "/usr/local/lib/python3.8/dist-packages/spacy/training/iob_utils.py:149: UserWarning: [W030] Some entities could not be aligned in the text \"PRASHANTH BADALA Devops Engineer ,Cloud Engineer -...\" with entities \"[[13907, 13911, 'Skills'], [13835, 13841, 'Compani...\". Use `spacy.training.offsets_to_biluo_tags(nlp.make_doc(text), entities)` to check the alignment. Misaligned entities ('-') will be ignored during training.\n",
            "  warnings.warn(\n",
            "/usr/local/lib/python3.8/dist-packages/spacy/training/iob_utils.py:149: UserWarning: [W030] Some entities could not be aligned in the text \"Ajay Elango Software Engineer  Bangalore City, Kar...\" with entities \"[[6930, 7494, 'Skills'], [6845, 6874, 'College Nam...\". Use `spacy.training.offsets_to_biluo_tags(nlp.make_doc(text), entities)` to check the alignment. Misaligned entities ('-') will be ignored during training.\n",
            "  warnings.warn(\n",
            "/usr/local/lib/python3.8/dist-packages/spacy/training/iob_utils.py:149: UserWarning: [W030] Some entities could not be aligned in the text \"Vineeth Vijayan \"Store Executive\" - Orange City Ho...\" with entities \"[[6994, 7348, 'Skills'], [6936, 6972, 'College Nam...\". Use `spacy.training.offsets_to_biluo_tags(nlp.make_doc(text), entities)` to check the alignment. Misaligned entities ('-') will be ignored during training.\n",
            "  warnings.warn(\n",
            "/usr/local/lib/python3.8/dist-packages/spacy/training/iob_utils.py:149: UserWarning: [W030] Some entities could not be aligned in the text \"Mohammed Murtuza Major Incident Manager / Escalati...\" with entities \"[[7924, 8039, 'Skills'], [7872, 7890, 'College Nam...\". Use `spacy.training.offsets_to_biluo_tags(nlp.make_doc(text), entities)` to check the alignment. Misaligned entities ('-') will be ignored during training.\n",
            "  warnings.warn(\n",
            "/usr/local/lib/python3.8/dist-packages/spacy/training/iob_utils.py:149: UserWarning: [W030] Some entities could not be aligned in the text \"Tejasri Gunnam Bengaluru, Karnataka - Email me on ...\" with entities \"[[3517, 3878, 'Skills'], [3387, 3481, 'Skills'], [...\". Use `spacy.training.offsets_to_biluo_tags(nlp.make_doc(text), entities)` to check the alignment. Misaligned entities ('-') will be ignored during training.\n",
            "  warnings.warn(\n",
            "/usr/local/lib/python3.8/dist-packages/spacy/training/iob_utils.py:149: UserWarning: [W030] Some entities could not be aligned in the text \"Puran Mal Jaipur, Rajasthan - Email me on Indeed: ...\" with entities \"[[194, 511, 'Skills'], [174, 183, 'Degree'], [127,...\". Use `spacy.training.offsets_to_biluo_tags(nlp.make_doc(text), entities)` to check the alignment. Misaligned entities ('-') will be ignored during training.\n",
            "  warnings.warn(\n",
            "/usr/local/lib/python3.8/dist-packages/spacy/training/iob_utils.py:149: UserWarning: [W030] Some entities could not be aligned in the text \"Yathishwaran P Maximo Consultant - Infosys Limited...\" with entities \"[[19523, 19683, 'Skills'], [19377, 19479, 'Skills'...\". Use `spacy.training.offsets_to_biluo_tags(nlp.make_doc(text), entities)` to check the alignment. Misaligned entities ('-') will be ignored during training.\n",
            "  warnings.warn(\n",
            "/usr/local/lib/python3.8/dist-packages/spacy/training/iob_utils.py:149: UserWarning: [W030] Some entities could not be aligned in the text \"Ayushi Srivastava Senior Analyst - Cisco  New Delh...\" with entities \"[[1361, 1408, 'Email Address'], [1219, 1347, 'Skil...\". Use `spacy.training.offsets_to_biluo_tags(nlp.make_doc(text), entities)` to check the alignment. Misaligned entities ('-') will be ignored during training.\n",
            "  warnings.warn(\n",
            "/usr/local/lib/python3.8/dist-packages/spacy/training/iob_utils.py:149: UserWarning: [W030] Some entities could not be aligned in the text \"Fenil Francis head of operation and logistics  Tri...\" with entities \"[[774, 896, 'Skills'], [694, 728, 'Skills'], [648,...\". Use `spacy.training.offsets_to_biluo_tags(nlp.make_doc(text), entities)` to check the alignment. Misaligned entities ('-') will be ignored during training.\n",
            "  warnings.warn(\n",
            "/usr/local/lib/python3.8/dist-packages/spacy/training/iob_utils.py:149: UserWarning: [W030] Some entities could not be aligned in the text \"Jaspreet Kaur Oceanic Consultants as a HR Executiv...\" with entities \"[[5670, 5780, 'Skills'], [462, 481, 'Designation']...\". Use `spacy.training.offsets_to_biluo_tags(nlp.make_doc(text), entities)` to check the alignment. Misaligned entities ('-') will be ignored during training.\n",
            "  warnings.warn(\n",
            "/usr/local/lib/python3.8/dist-packages/spacy/training/iob_utils.py:149: UserWarning: [W030] Some entities could not be aligned in the text \"Suman Biswas SAP UI5 Lead, Native HANA Developer -...\" with entities \"[[5053, 5058, 'Companies worked at'], [5013, 5018,...\". Use `spacy.training.offsets_to_biluo_tags(nlp.make_doc(text), entities)` to check the alignment. Misaligned entities ('-') will be ignored during training.\n",
            "  warnings.warn(\n",
            "/usr/local/lib/python3.8/dist-packages/spacy/training/iob_utils.py:149: UserWarning: [W030] Some entities could not be aligned in the text \"Navas Koya Test Engineer  Mangalore, Karnataka - E...\" with entities \"[[2110, 2404, 'Skills'], [2055, 2064, 'Location'],...\". Use `spacy.training.offsets_to_biluo_tags(nlp.make_doc(text), entities)` to check the alignment. Misaligned entities ('-') will be ignored during training.\n",
            "  warnings.warn(\n",
            "/usr/local/lib/python3.8/dist-packages/spacy/training/iob_utils.py:149: UserWarning: [W030] Some entities could not be aligned in the text \"Puneet Bhandari SAP SD lead - Microsoft IT  Pune, ...\" with entities \"[[8577, 8593, 'Skills'], [8383, 8387, 'Graduation ...\". Use `spacy.training.offsets_to_biluo_tags(nlp.make_doc(text), entities)` to check the alignment. Misaligned entities ('-') will be ignored during training.\n",
            "  warnings.warn(\n",
            "/usr/local/lib/python3.8/dist-packages/spacy/training/iob_utils.py:149: UserWarning: [W030] Some entities could not be aligned in the text \"Raktim Podder 6+ Exp in banking operations and cre...\" with entities \"[[8800, 8927, 'Skills'], [8760, 8788, 'College Nam...\". Use `spacy.training.offsets_to_biluo_tags(nlp.make_doc(text), entities)` to check the alignment. Misaligned entities ('-') will be ignored during training.\n",
            "  warnings.warn(\n",
            "/usr/local/lib/python3.8/dist-packages/spacy/training/iob_utils.py:149: UserWarning: [W030] Some entities could not be aligned in the text \"Srushti Bhadale Mumbai, Maharashtra - Email me on ...\" with entities \"[[1551, 1852, 'Skills'], [1454, 1499, 'Email Addre...\". Use `spacy.training.offsets_to_biluo_tags(nlp.make_doc(text), entities)` to check the alignment. Misaligned entities ('-') will be ignored during training.\n",
            "  warnings.warn(\n",
            "/usr/local/lib/python3.8/dist-packages/spacy/training/iob_utils.py:149: UserWarning: [W030] Some entities could not be aligned in the text \"Jacob Philip Kottayam, Kerala - Email me on Indeed...\" with entities \"[[2165, 2214, 'Skills'], [2145, 2155, 'Degree'], [...\". Use `spacy.training.offsets_to_biluo_tags(nlp.make_doc(text), entities)` to check the alignment. Misaligned entities ('-') will be ignored during training.\n",
            "  warnings.warn(\n",
            "/usr/local/lib/python3.8/dist-packages/spacy/training/iob_utils.py:149: UserWarning: [W030] Some entities could not be aligned in the text \"Pawan Nag Microsoft Certified System Engineer  Del...\" with entities \"[[523, 562, 'Email Address'], [500, 509, 'Name'], ...\". Use `spacy.training.offsets_to_biluo_tags(nlp.make_doc(text), entities)` to check the alignment. Misaligned entities ('-') will be ignored during training.\n",
            "  warnings.warn(\n",
            "/usr/local/lib/python3.8/dist-packages/spacy/training/iob_utils.py:149: UserWarning: [W030] Some entities could not be aligned in the text \"Zaheer Uddin Technical Project Manager  Hyderabad,...\" with entities \"[[4901, 4909, 'Location'], [4843, 4861, 'College N...\". Use `spacy.training.offsets_to_biluo_tags(nlp.make_doc(text), entities)` to check the alignment. Misaligned entities ('-') will be ignored during training.\n",
            "  warnings.warn(\n",
            "/usr/local/lib/python3.8/dist-packages/spacy/training/iob_utils.py:149: UserWarning: [W030] Some entities could not be aligned in the text \"Asha Subbaiah (Microsoft Partner Readiness Operati...\" with entities \"[[3345, 3380, 'College Name'], [3322, 3343, 'Degre...\". Use `spacy.training.offsets_to_biluo_tags(nlp.make_doc(text), entities)` to check the alignment. Misaligned entities ('-') will be ignored during training.\n",
            "  warnings.warn(\n",
            "/usr/local/lib/python3.8/dist-packages/spacy/training/iob_utils.py:149: UserWarning: [W030] Some entities could not be aligned in the text \"Mahesh Vijay Bengaluru, Karnataka - Email me on In...\" with entities \"[[3823, 3978, 'Skills'], [3466, 3819, 'Skills'], [...\". Use `spacy.training.offsets_to_biluo_tags(nlp.make_doc(text), entities)` to check the alignment. Misaligned entities ('-') will be ignored during training.\n",
            "  warnings.warn(\n",
            "/usr/local/lib/python3.8/dist-packages/spacy/training/iob_utils.py:149: UserWarning: [W030] Some entities could not be aligned in the text \"Kavya U. Network Ops Associate - Accenture  Bengal...\" with entities \"[[1844, 1873, 'Skills'], [1794, 1830, 'Skills'], [...\". Use `spacy.training.offsets_to_biluo_tags(nlp.make_doc(text), entities)` to check the alignment. Misaligned entities ('-') will be ignored during training.\n",
            "  warnings.warn(\n",
            "/usr/local/lib/python3.8/dist-packages/spacy/training/iob_utils.py:149: UserWarning: [W030] Some entities could not be aligned in the text \"B. Gokul Gokul, Uttar Pradesh - Email me on Indeed...\" with entities \"[[970, 1002, 'Skills'], [863, 868, 'Location'], [6...\". Use `spacy.training.offsets_to_biluo_tags(nlp.make_doc(text), entities)` to check the alignment. Misaligned entities ('-') will be ignored during training.\n",
            "  warnings.warn(\n",
            "/usr/local/lib/python3.8/dist-packages/spacy/training/iob_utils.py:149: UserWarning: [W030] Some entities could not be aligned in the text \"Paul Rajiv Secunderabad, Andhra Pradesh - Email me...\" with entities \"[[4729, 4733, 'Graduation Year'], [2634, 2638, 'Gr...\". Use `spacy.training.offsets_to_biluo_tags(nlp.make_doc(text), entities)` to check the alignment. Misaligned entities ('-') will be ignored during training.\n",
            "  warnings.warn(\n",
            "/usr/local/lib/python3.8/dist-packages/spacy/training/iob_utils.py:149: UserWarning: [W030] Some entities could not be aligned in the text \"Yogesh Ghatole Engineer / Electrical Supervisor, S...\" with entities \"[[2912, 3288, 'Skills'], [2721, 2725, 'UNKNOWN'], ...\". Use `spacy.training.offsets_to_biluo_tags(nlp.make_doc(text), entities)` to check the alignment. Misaligned entities ('-') will be ignored during training.\n",
            "  warnings.warn(\n",
            "/usr/local/lib/python3.8/dist-packages/spacy/training/iob_utils.py:149: UserWarning: [W030] Some entities could not be aligned in the text \"Nitin Tr PeopleSoft Consultant  Bangalore Urban, K...\" with entities \"[[3511, 3749, 'Skills'], [3313, 3364, 'Skills'], [...\". Use `spacy.training.offsets_to_biluo_tags(nlp.make_doc(text), entities)` to check the alignment. Misaligned entities ('-') will be ignored during training.\n",
            "  warnings.warn(\n",
            "/usr/local/lib/python3.8/dist-packages/spacy/training/iob_utils.py:149: UserWarning: [W030] Some entities could not be aligned in the text \"Anvitha Rao Automation developer  - Email me on In...\" with entities \"[[2826, 2879, 'Skills'], [2768, 2810, 'Skills'], [...\". Use `spacy.training.offsets_to_biluo_tags(nlp.make_doc(text), entities)` to check the alignment. Misaligned entities ('-') will be ignored during training.\n",
            "  warnings.warn(\n",
            "/usr/local/lib/python3.8/dist-packages/spacy/training/iob_utils.py:149: UserWarning: [W030] Some entities could not be aligned in the text \"Puneet Singh Associate Software Engineer  Bengalur...\" with entities \"[[990, 1007, 'Skills'], [952, 968, 'Skills'], [919...\". Use `spacy.training.offsets_to_biluo_tags(nlp.make_doc(text), entities)` to check the alignment. Misaligned entities ('-') will be ignored during training.\n",
            "  warnings.warn(\n",
            "/usr/local/lib/python3.8/dist-packages/spacy/training/iob_utils.py:149: UserWarning: [W030] Some entities could not be aligned in the text \"Aarti Pimplay Operations Center Shift Manager (OCS...\" with entities \"[[3054, 3363, 'Skills'], [2333, 2339, 'Companies w...\". Use `spacy.training.offsets_to_biluo_tags(nlp.make_doc(text), entities)` to check the alignment. Misaligned entities ('-') will be ignored during training.\n",
            "  warnings.warn(\n",
            "/usr/local/lib/python3.8/dist-packages/spacy/training/iob_utils.py:149: UserWarning: [W030] Some entities could not be aligned in the text \"Jatin Arora SDET Automation Engineer, Infosys - CR...\" with entities \"[[3909, 3931, 'College Name'], [3883, 3907, 'Degre...\". Use `spacy.training.offsets_to_biluo_tags(nlp.make_doc(text), entities)` to check the alignment. Misaligned entities ('-') will be ignored during training.\n",
            "  warnings.warn(\n",
            "/usr/local/lib/python3.8/dist-packages/spacy/training/iob_utils.py:149: UserWarning: [W030] Some entities could not be aligned in the text \"Pankaj Bhosale Microsoft SQL-SERVER  Dhule, Mahara...\" with entities \"[[1482, 1487, 'Location'], [1369, 1413, 'Email Add...\". Use `spacy.training.offsets_to_biluo_tags(nlp.make_doc(text), entities)` to check the alignment. Misaligned entities ('-') will be ignored during training.\n",
            "  warnings.warn(\n",
            "/usr/local/lib/python3.8/dist-packages/spacy/training/iob_utils.py:149: UserWarning: [W030] Some entities could not be aligned in the text \"Suresh Kanagala Architecture SharePoint/Office 365...\" with entities \"[[1171, 1573, 'Skills'], [962, 1095, 'Skills'], [9...\". Use `spacy.training.offsets_to_biluo_tags(nlp.make_doc(text), entities)` to check the alignment. Misaligned entities ('-') will be ignored during training.\n",
            "  warnings.warn(\n",
            "/usr/local/lib/python3.8/dist-packages/spacy/training/iob_utils.py:149: UserWarning: [W030] Some entities could not be aligned in the text \"Praveen Bhaskar Program Manager (Software Delivery...\" with entities \"[[4459, 4959, 'Skills'], [4445, 4447, 'Designation...\". Use `spacy.training.offsets_to_biluo_tags(nlp.make_doc(text), entities)` to check the alignment. Misaligned entities ('-') will be ignored during training.\n",
            "  warnings.warn(\n",
            "/usr/local/lib/python3.8/dist-packages/spacy/training/iob_utils.py:149: UserWarning: [W030] Some entities could not be aligned in the text \"Gunjan Nayyar Hoshiarpur, Punjab - Email me on Ind...\" with entities \"[[1234, 1277, 'Email Address'], [1146, 1150, 'Grad...\". Use `spacy.training.offsets_to_biluo_tags(nlp.make_doc(text), entities)` to check the alignment. Misaligned entities ('-') will be ignored during training.\n",
            "  warnings.warn(\n",
            "/usr/local/lib/python3.8/dist-packages/spacy/training/iob_utils.py:149: UserWarning: [W030] Some entities could not be aligned in the text \"Ram Edupuganti Software Development Director - Ora...\" with entities \"[[4960, 4964, 'Graduation Year'], [4938, 4958, 'Co...\". Use `spacy.training.offsets_to_biluo_tags(nlp.make_doc(text), entities)` to check the alignment. Misaligned entities ('-') will be ignored during training.\n",
            "  warnings.warn(\n",
            "/usr/local/lib/python3.8/dist-packages/spacy/training/iob_utils.py:149: UserWarning: [W030] Some entities could not be aligned in the text \"Pradeeba V LEAD ENGINEER - CISCO  - Email me on In...\" with entities \"[[2707, 2711, 'Skills'], [2683, 2693, 'Skills'], [...\". Use `spacy.training.offsets_to_biluo_tags(nlp.make_doc(text), entities)` to check the alignment. Misaligned entities ('-') will be ignored during training.\n",
            "  warnings.warn(\n",
            "/usr/local/lib/python3.8/dist-packages/spacy/training/iob_utils.py:149: UserWarning: [W030] Some entities could not be aligned in the text \"Palani S Senior Technology Support Executive at In...\" with entities \"[[3660, 3663, 'Graduation Year'], [3600, 3602, 'Gr...\". Use `spacy.training.offsets_to_biluo_tags(nlp.make_doc(text), entities)` to check the alignment. Misaligned entities ('-') will be ignored during training.\n",
            "  warnings.warn(\n",
            "/usr/local/lib/python3.8/dist-packages/spacy/training/iob_utils.py:149: UserWarning: [W030] Some entities could not be aligned in the text \"Laya A Cluster HR Manager - Velammal New  Chennai,...\" with entities \"[[3760, 4638, 'Skills'], [3727, 3742, 'College Nam...\". Use `spacy.training.offsets_to_biluo_tags(nlp.make_doc(text), entities)` to check the alignment. Misaligned entities ('-') will be ignored during training.\n",
            "  warnings.warn(\n",
            "/usr/local/lib/python3.8/dist-packages/spacy/training/iob_utils.py:149: UserWarning: [W030] Some entities could not be aligned in the text \"Keshav Dhawale 3 TCS Security guard Access Control...\" with entities \"[[971, 1015, 'Email Address'], [877, 895, 'College...\". Use `spacy.training.offsets_to_biluo_tags(nlp.make_doc(text), entities)` to check the alignment. Misaligned entities ('-') will be ignored during training.\n",
            "  warnings.warn(\n",
            "/usr/local/lib/python3.8/dist-packages/spacy/training/iob_utils.py:149: UserWarning: [W030] Some entities could not be aligned in the text \"Koushik Katta Devops  Hyderabad, Telangana - Email...\" with entities \"[[2957, 3073, 'Skills'], [2943, 2947, 'Graduation ...\". Use `spacy.training.offsets_to_biluo_tags(nlp.make_doc(text), entities)` to check the alignment. Misaligned entities ('-') will be ignored during training.\n",
            "  warnings.warn(\n",
            "/usr/local/lib/python3.8/dist-packages/spacy/training/iob_utils.py:149: UserWarning: [W030] Some entities could not be aligned in the text \"Sharan Adla - Email me on Indeed: indeed.com/r/Sha...\" with entities \"[[2421, 2450, 'College Name'], [2416, 2419, 'Degre...\". Use `spacy.training.offsets_to_biluo_tags(nlp.make_doc(text), entities)` to check the alignment. Misaligned entities ('-') will be ignored during training.\n",
            "  warnings.warn(\n",
            "/usr/local/lib/python3.8/dist-packages/spacy/training/iob_utils.py:149: UserWarning: [W030] Some entities could not be aligned in the text \"VARUN AHLUWALIA Quantitative Analyst  - Email me o...\" with entities \"[[773, 847, 'Skills'], [736, 740, 'Graduation Year...\". Use `spacy.training.offsets_to_biluo_tags(nlp.make_doc(text), entities)` to check the alignment. Misaligned entities ('-') will be ignored during training.\n",
            "  warnings.warn(\n",
            "/usr/local/lib/python3.8/dist-packages/spacy/training/iob_utils.py:149: UserWarning: [W030] Some entities could not be aligned in the text \"Abdul B Arabic Language supporter (Content Analyst...\" with entities \"[[2349, 2471, 'Skills'], [2331, 2337, 'Degree'], [...\". Use `spacy.training.offsets_to_biluo_tags(nlp.make_doc(text), entities)` to check the alignment. Misaligned entities ('-') will be ignored during training.\n",
            "  warnings.warn(\n",
            "/usr/local/lib/python3.8/dist-packages/spacy/training/iob_utils.py:149: UserWarning: [W030] Some entities could not be aligned in the text \"Shaik Tazuddin Senior Process Executive - STAR Ind...\" with entities \"[[2877, 3030, 'Skills'], [2728, 2742, 'College Nam...\". Use `spacy.training.offsets_to_biluo_tags(nlp.make_doc(text), entities)` to check the alignment. Misaligned entities ('-') will be ignored during training.\n",
            "  warnings.warn(\n",
            "/usr/local/lib/python3.8/dist-packages/spacy/training/iob_utils.py:149: UserWarning: [W030] Some entities could not be aligned in the text \"Divesh Singh Bengaluru, Karnataka - Email me on In...\" with entities \"[[948, 1179, 'Skills'], [833, 845, 'College Name']...\". Use `spacy.training.offsets_to_biluo_tags(nlp.make_doc(text), entities)` to check the alignment. Misaligned entities ('-') will be ignored during training.\n",
            "  warnings.warn(\n",
            "/usr/local/lib/python3.8/dist-packages/spacy/training/iob_utils.py:149: UserWarning: [W030] Some entities could not be aligned in the text \"Rajeev Kumar Senior Associate Consultant - Infosys...\" with entities \"[[3982, 4412, 'Skills'], [3162, 3674, 'Skills'], [...\". Use `spacy.training.offsets_to_biluo_tags(nlp.make_doc(text), entities)` to check the alignment. Misaligned entities ('-') will be ignored during training.\n",
            "  warnings.warn(\n",
            "/usr/local/lib/python3.8/dist-packages/spacy/training/iob_utils.py:149: UserWarning: [W030] Some entities could not be aligned in the text \"Srinivas VO Sr. Test Manager  Mumbai, Maharashtra ...\" with entities \"[[11201, 11408, 'Skills'], [11172, 11191, 'College...\". Use `spacy.training.offsets_to_biluo_tags(nlp.make_doc(text), entities)` to check the alignment. Misaligned entities ('-') will be ignored during training.\n",
            "  warnings.warn(\n",
            "/usr/local/lib/python3.8/dist-packages/spacy/training/iob_utils.py:149: UserWarning: [W030] Some entities could not be aligned in the text \"Roshan Sinha Application Developer - SAP ABAP  Kol...\" with entities \"[[3255, 3264, 'Skills'], [3246, 3254, 'Skills'], [...\". Use `spacy.training.offsets_to_biluo_tags(nlp.make_doc(text), entities)` to check the alignment. Misaligned entities ('-') will be ignored during training.\n",
            "  warnings.warn(\n",
            "/usr/local/lib/python3.8/dist-packages/spacy/training/iob_utils.py:149: UserWarning: [W030] Some entities could not be aligned in the text \"Debasish Dasgupta Trainer-Finacle-Core Banking Sol...\" with entities \"[[5840, 5847, 'Companies worked at'], [2090, 2137,...\". Use `spacy.training.offsets_to_biluo_tags(nlp.make_doc(text), entities)` to check the alignment. Misaligned entities ('-') will be ignored during training.\n",
            "  warnings.warn(\n",
            "/usr/local/lib/python3.8/dist-packages/spacy/training/iob_utils.py:149: UserWarning: [W030] Some entities could not be aligned in the text \"Kandrapu Reddy Senior Travel Operations (Domestic,...\" with entities \"[[4232, 4330, 'Skills'], [4058, 4101, 'Degree'], [...\". Use `spacy.training.offsets_to_biluo_tags(nlp.make_doc(text), entities)` to check the alignment. Misaligned entities ('-') will be ignored during training.\n",
            "  warnings.warn(\n",
            "/usr/local/lib/python3.8/dist-packages/spacy/training/iob_utils.py:149: UserWarning: [W030] Some entities could not be aligned in the text \"Chhaya Prabhale Kharadi, Pune, 411014, IN - Email ...\" with entities \"[[1943, 2050, 'Skills'], [478, 488, 'Designation']...\". Use `spacy.training.offsets_to_biluo_tags(nlp.make_doc(text), entities)` to check the alignment. Misaligned entities ('-') will be ignored during training.\n",
            "  warnings.warn(\n",
            "/usr/local/lib/python3.8/dist-packages/spacy/training/iob_utils.py:149: UserWarning: [W030] Some entities could not be aligned in the text \"Ashish Indoriya Sr. Systems Engineer at Infosys Li...\" with entities \"[[3828, 3931, 'Skills'], [3753, 3794, 'College Nam...\". Use `spacy.training.offsets_to_biluo_tags(nlp.make_doc(text), entities)` to check the alignment. Misaligned entities ('-') will be ignored during training.\n",
            "  warnings.warn(\n",
            "/usr/local/lib/python3.8/dist-packages/spacy/training/iob_utils.py:149: UserWarning: [W030] Some entities could not be aligned in the text \"Madhava Konjeti HR Executive  Bengaluru, Karnataka...\" with entities \"[[1818, 1892, 'Skills'], [1761, 1765, 'Graduation ...\". Use `spacy.training.offsets_to_biluo_tags(nlp.make_doc(text), entities)` to check the alignment. Misaligned entities ('-') will be ignored during training.\n",
            "  warnings.warn(\n",
            "/usr/local/lib/python3.8/dist-packages/spacy/training/iob_utils.py:149: UserWarning: [W030] Some entities could not be aligned in the text \"Jyotirbindu Patnaik Associate consultant@SAP labs ...\" with entities \"[[3052, 3067, 'Skills'], [2993, 3016, 'College Nam...\". Use `spacy.training.offsets_to_biluo_tags(nlp.make_doc(text), entities)` to check the alignment. Misaligned entities ('-') will be ignored during training.\n",
            "  warnings.warn(\n",
            "/usr/local/lib/python3.8/dist-packages/spacy/training/iob_utils.py:149: UserWarning: [W030] Some entities could not be aligned in the text \"Sameer Kujur Orrisha - Email me on Indeed: indeed....\" with entities \"[[265, 307, 'Email Address'], [210, 251, 'Skills']...\". Use `spacy.training.offsets_to_biluo_tags(nlp.make_doc(text), entities)` to check the alignment. Misaligned entities ('-') will be ignored during training.\n",
            "  warnings.warn(\n",
            "/usr/local/lib/python3.8/dist-packages/spacy/training/iob_utils.py:149: UserWarning: [W030] Some entities could not be aligned in the text \"Dinesh Reddy Deployed chef for configuration manag...\" with entities \"[[4611, 4621, 'Skills'], [4531, 4567, 'College Nam...\". Use `spacy.training.offsets_to_biluo_tags(nlp.make_doc(text), entities)` to check the alignment. Misaligned entities ('-') will be ignored during training.\n",
            "  warnings.warn(\n",
            "/usr/local/lib/python3.8/dist-packages/spacy/training/iob_utils.py:149: UserWarning: [W030] Some entities could not be aligned in the text \"Ramya. P Hyderabad, Telangana - Email me on Indeed...\" with entities \"[[4542, 4549, 'Skills'], [4178, 4187, 'Skills'], [...\". Use `spacy.training.offsets_to_biluo_tags(nlp.make_doc(text), entities)` to check the alignment. Misaligned entities ('-') will be ignored during training.\n",
            "  warnings.warn(\n",
            "/usr/local/lib/python3.8/dist-packages/spacy/training/iob_utils.py:149: UserWarning: [W030] Some entities could not be aligned in the text \"Mohini Gupta Server Support Engineer  Gurgaon, Har...\" with entities \"[[2326, 2333, 'Location'], [1821, 2095, 'Skills'],...\". Use `spacy.training.offsets_to_biluo_tags(nlp.make_doc(text), entities)` to check the alignment. Misaligned entities ('-') will be ignored during training.\n",
            "  warnings.warn(\n"
          ]
        },
        {
          "output_type": "stream",
          "name": "stdout",
          "text": [
            "{'ner': 14431.650884755143}\n",
            "----------------------------\n",
            "Statring iteration 1\n",
            "{'ner': 5273.524244468767}\n",
            "----------------------------\n",
            "Statring iteration 2\n",
            "{'ner': 4499.898463169236}\n",
            "----------------------------\n",
            "Statring iteration 3\n",
            "{'ner': 4274.099676665348}\n",
            "----------------------------\n",
            "Statring iteration 4\n",
            "{'ner': 3456.538810146815}\n",
            "----------------------------\n",
            "Statring iteration 5\n",
            "{'ner': 3198.7352562947362}\n",
            "----------------------------\n",
            "Statring iteration 6\n",
            "{'ner': 2935.9622679041195}\n",
            "----------------------------\n",
            "Statring iteration 7\n",
            "{'ner': 2796.873539860936}\n",
            "----------------------------\n",
            "Statring iteration 8\n",
            "{'ner': 2666.0469317194024}\n",
            "----------------------------\n",
            "Statring iteration 9\n",
            "{'ner': 2539.095662136809}\n",
            "----------------------------\n"
          ]
        }
      ],
      "source": [
        "# Train the ner model\n",
        "nlp = train_spacy()"
      ]
    },
    {
      "cell_type": "markdown",
      "source": [
        "## Test the NER model"
      ],
      "metadata": {
        "id": "4Ssr8xC-C7Jo"
      }
    },
    {
      "cell_type": "code",
      "execution_count": 18,
      "metadata": {
        "id": "AreMD5eU2_ct"
      },
      "outputs": [],
      "source": [
        "# Convert prediction to the bilou format\n",
        "def doc_to_bilou(nlp, text):\n",
        "  \"\"\"Convert ner model predictions to the bilou format.\n",
        "  Args:\n",
        "    nlp (object): ner model.\n",
        "    text (string): text to predict.\n",
        "\n",
        "  Returns:\n",
        "    list: list of the prediction in the bilou format.\n",
        "  \"\"\"\n",
        "  \n",
        "  doc = nlp(text)\n",
        "  tokens = [(tok.text, tok.idx, tok.ent_type_) for tok in doc]\n",
        "  entities = []\n",
        "  for entity, group in groupby(tokens, key=lambda t: t[-1]):\n",
        "    if not entity:\n",
        "      continue\n",
        "    group = list(group)\n",
        "    _, start, _ = group[0]\n",
        "    word, last, _ = group[-1]\n",
        "    end = last + len(word)\n",
        "        \n",
        "    entities.append((start, end, entity))\n",
        "\n",
        "  gold = offsets_to_biluo_tags(nlp(text), entities = entities)\n",
        "  pred_ents = gold\n",
        "    \n",
        "  return pred_ents"
      ]
    },
    {
      "cell_type": "code",
      "source": [
        "# Get the predicted and actual labels\n",
        "y_test = []\n",
        "y_pred = []\n",
        "\n",
        "for text, annots in test_data:\n",
        "  gold = offsets_to_biluo_tags(nlp.make_doc(text), entities = annots.get(\"entities\"))\n",
        "  ents = gold\n",
        "  pred_ents = doc_to_bilou(nlp, text)\n",
        "    \n",
        "  y_test.append(ents)\n",
        "  y_pred.append(pred_ents)"
      ],
      "metadata": {
        "colab": {
          "base_uri": "https://localhost:8080/"
        },
        "id": "Cla1bALD9u6A",
        "outputId": "cfef579c-1c13-4118-bebf-3618a529a22f"
      },
      "execution_count": 19,
      "outputs": [
        {
          "output_type": "stream",
          "name": "stderr",
          "text": [
            "/usr/local/lib/python3.8/dist-packages/spacy/training/iob_utils.py:149: UserWarning: [W030] Some entities could not be aligned in the text \"Chaban kumar Debbarma Tripura - Email me on Indeed...\" with entities \"[[277, 328, 'Email Address'], [257, 263, 'College ...\". Use `spacy.training.offsets_to_biluo_tags(nlp.make_doc(text), entities)` to check the alignment. Misaligned entities ('-') will be ignored during training.\n",
            "  warnings.warn(\n",
            "/usr/local/lib/python3.8/dist-packages/spacy/training/iob_utils.py:149: UserWarning: [W030] Some entities could not be aligned in the text \"Nitin Verma Assisting Microsoft Partners - Exchang...\" with entities \"[[1308, 1349, 'Email Address'], [1277, 1281, 'Loca...\". Use `spacy.training.offsets_to_biluo_tags(nlp.make_doc(text), entities)` to check the alignment. Misaligned entities ('-') will be ignored during training.\n",
            "  warnings.warn(\n",
            "/usr/local/lib/python3.8/dist-packages/spacy/training/iob_utils.py:149: UserWarning: [W030] Some entities could not be aligned in the text \"Angad Waghmare Pune, Maharashtra - Email me on Ind...\" with entities \"[[3878, 3937, 'Degree'], [3111, 3846, 'Skills'], [...\". Use `spacy.training.offsets_to_biluo_tags(nlp.make_doc(text), entities)` to check the alignment. Misaligned entities ('-') will be ignored during training.\n",
            "  warnings.warn(\n",
            "/usr/local/lib/python3.8/dist-packages/spacy/training/iob_utils.py:149: UserWarning: [W030] Some entities could not be aligned in the text \"Madhuri Sripathi Banglore, Karnataka, Karnataka - ...\" with entities \"[[4563, 4746, 'Skills'], [4538, 4551, 'College Nam...\". Use `spacy.training.offsets_to_biluo_tags(nlp.make_doc(text), entities)` to check the alignment. Misaligned entities ('-') will be ignored during training.\n",
            "  warnings.warn(\n",
            "/usr/local/lib/python3.8/dist-packages/spacy/training/iob_utils.py:149: UserWarning: [W030] Some entities could not be aligned in the text \"Afreen Jamadar Active member of IIIT Committee in ...\" with entities \"[[1155, 1199, 'Email Address'], [743, 1141, 'Skill...\". Use `spacy.training.offsets_to_biluo_tags(nlp.make_doc(text), entities)` to check the alignment. Misaligned entities ('-') will be ignored during training.\n",
            "  warnings.warn(\n",
            "/usr/local/lib/python3.8/dist-packages/spacy/training/iob_utils.py:149: UserWarning: [W030] Some entities could not be aligned in the text \"Krishna Prasad Patna, Bihar - Email me on Indeed: ...\" with entities \"[[283, 327, 'Email Address'], [257, 262, 'Location...\". Use `spacy.training.offsets_to_biluo_tags(nlp.make_doc(text), entities)` to check the alignment. Misaligned entities ('-') will be ignored during training.\n",
            "  warnings.warn(\n",
            "/usr/local/lib/python3.8/dist-packages/spacy/training/iob_utils.py:149: UserWarning: [W030] Some entities could not be aligned in the text \"Girish Acharya Technical Architect & Sr. Software ...\" with entities \"[[19383, 19402, 'Designation'], [18315, 18334, 'De...\". Use `spacy.training.offsets_to_biluo_tags(nlp.make_doc(text), entities)` to check the alignment. Misaligned entities ('-') will be ignored during training.\n",
            "  warnings.warn(\n",
            "/usr/local/lib/python3.8/dist-packages/spacy/training/iob_utils.py:149: UserWarning: [W030] Some entities could not be aligned in the text \"Sohan Dhakad Shivpuri, Madhya Pradesh - Email me o...\" with entities \"[[870, 893, 'Skills'], [794, 810, 'College Name'],...\". Use `spacy.training.offsets_to_biluo_tags(nlp.make_doc(text), entities)` to check the alignment. Misaligned entities ('-') will be ignored during training.\n",
            "  warnings.warn(\n",
            "/usr/local/lib/python3.8/dist-packages/spacy/training/iob_utils.py:149: UserWarning: [W030] Some entities could not be aligned in the text \"Rahul Tayade Global Production Support Lead, - Inf...\" with entities \"[[11134, 11234, 'Skills'], [11050, 11085, 'College...\". Use `spacy.training.offsets_to_biluo_tags(nlp.make_doc(text), entities)` to check the alignment. Misaligned entities ('-') will be ignored during training.\n",
            "  warnings.warn(\n",
            "/usr/local/lib/python3.8/dist-packages/spacy/training/iob_utils.py:149: UserWarning: [W030] Some entities could not be aligned in the text \"Arpit Jain Quality Analyst - ThoughtWorks Technolo...\" with entities \"[[2301, 2380, 'Skills'], [2088, 2130, 'College Nam...\". Use `spacy.training.offsets_to_biluo_tags(nlp.make_doc(text), entities)` to check the alignment. Misaligned entities ('-') will be ignored during training.\n",
            "  warnings.warn(\n",
            "/usr/local/lib/python3.8/dist-packages/spacy/training/iob_utils.py:149: UserWarning: [W030] Some entities could not be aligned in the text \"Vishwanath P Senior Executive (MIS & Audit) - Job ...\" with entities \"[[8139, 8163, 'College Name'], [2392, 2434, 'Email...\". Use `spacy.training.offsets_to_biluo_tags(nlp.make_doc(text), entities)` to check the alignment. Misaligned entities ('-') will be ignored during training.\n",
            "  warnings.warn(\n",
            "/usr/local/lib/python3.8/dist-packages/spacy/training/iob_utils.py:149: UserWarning: [W030] Some entities could not be aligned in the text \"Pratibha P Principal Consultant at Oracle  Bengalu...\" with entities \"[[3345, 3896, 'Skills'], [3276, 3313, 'College Nam...\". Use `spacy.training.offsets_to_biluo_tags(nlp.make_doc(text), entities)` to check the alignment. Misaligned entities ('-') will be ignored during training.\n",
            "  warnings.warn(\n",
            "/usr/local/lib/python3.8/dist-packages/spacy/training/iob_utils.py:149: UserWarning: [W030] Some entities could not be aligned in the text \"Saurabh Sandhikar SAURABH SANDHIKAR  Hyderabad, Te...\" with entities \"[[2562, 2597, 'Skills'], [2366, 2375, 'Companies w...\". Use `spacy.training.offsets_to_biluo_tags(nlp.make_doc(text), entities)` to check the alignment. Misaligned entities ('-') will be ignored during training.\n",
            "  warnings.warn(\n",
            "/usr/local/lib/python3.8/dist-packages/spacy/training/iob_utils.py:149: UserWarning: [W030] Some entities could not be aligned in the text \"Hartej Kathuria Data Analyst Intern - Oracle Retai...\" with entities \"[[2247, 2573, 'Skills'], [1435, 1480, 'Email Addre...\". Use `spacy.training.offsets_to_biluo_tags(nlp.make_doc(text), entities)` to check the alignment. Misaligned entities ('-') will be ignored during training.\n",
            "  warnings.warn(\n",
            "/usr/local/lib/python3.8/dist-packages/spacy/training/iob_utils.py:149: UserWarning: [W030] Some entities could not be aligned in the text \"Shraddha Achar Mathura, Uttar Pradesh - Email me o...\" with entities \"[[975, 1020, 'Skills'], [814, 842, 'College Name']...\". Use `spacy.training.offsets_to_biluo_tags(nlp.make_doc(text), entities)` to check the alignment. Misaligned entities ('-') will be ignored during training.\n",
            "  warnings.warn(\n",
            "/usr/local/lib/python3.8/dist-packages/spacy/training/iob_utils.py:149: UserWarning: [W030] Some entities could not be aligned in the text \"Ramesh HP CES ASSOCIATE CONSULTANT  Bangalore, Kar...\" with entities \"[[2669, 2944, 'Skills'], [2618, 2638, 'College Nam...\". Use `spacy.training.offsets_to_biluo_tags(nlp.make_doc(text), entities)` to check the alignment. Misaligned entities ('-') will be ignored during training.\n",
            "  warnings.warn(\n",
            "/usr/local/lib/python3.8/dist-packages/spacy/training/iob_utils.py:149: UserWarning: [W030] Some entities could not be aligned in the text \"Arpit Godha Senior Process Executive  Jaipur, Raja...\" with entities \"[[3144, 3495, 'Skills'], [3081, 3104, 'College Nam...\". Use `spacy.training.offsets_to_biluo_tags(nlp.make_doc(text), entities)` to check the alignment. Misaligned entities ('-') will be ignored during training.\n",
            "  warnings.warn(\n",
            "/usr/local/lib/python3.8/dist-packages/spacy/training/iob_utils.py:149: UserWarning: [W030] Some entities could not be aligned in the text \"arjun ks Senior Program coordinator - oracle India...\" with entities \"[[3490, 3523, 'Skills'], [3476, 3480, 'Graduation ...\". Use `spacy.training.offsets_to_biluo_tags(nlp.make_doc(text), entities)` to check the alignment. Misaligned entities ('-') will be ignored during training.\n",
            "  warnings.warn(\n",
            "/usr/local/lib/python3.8/dist-packages/spacy/training/iob_utils.py:149: UserWarning: [W030] Some entities could not be aligned in the text \"Puneeth R Escalation Specialist - HiPower Support ...\" with entities \"[[2182, 2210, 'College Name'], [2177, 2180, 'Degre...\". Use `spacy.training.offsets_to_biluo_tags(nlp.make_doc(text), entities)` to check the alignment. Misaligned entities ('-') will be ignored during training.\n",
            "  warnings.warn(\n"
          ]
        }
      ]
    },
    {
      "cell_type": "code",
      "source": [
        "# Pre-process the test predictions\n",
        "lb = LabelBinarizer()\n",
        "y_true_combined = lb.fit_transform(list(chain.from_iterable(y_test)))\n",
        "y_pred_combined = lb.transform(list(chain.from_iterable(y_pred)))"
      ],
      "metadata": {
        "id": "Fyy43iFnBHzG"
      },
      "execution_count": 20,
      "outputs": []
    },
    {
      "cell_type": "code",
      "source": [
        "# ner model report\n",
        "def ner_report(y_true, y_pred):\n",
        "  \"\"\"Classification report for a list of BIO-encoded sequences.\n",
        "     It computes token-level metrics and discards \"O\" labels.\n",
        "  Args:\n",
        "    y_true (list): List of predictions from the test set.\n",
        "    y_pred (list): List of predictions from the ner model.\n",
        "\n",
        "  Returns:\n",
        "    object: Classification report.\n",
        "  \"\"\"\n",
        "  lb = LabelBinarizer()\n",
        "  y_true_combined = lb.fit_transform(list(chain.from_iterable(y_true)))\n",
        "  y_pred_combined = lb.transform(list(chain.from_iterable(y_pred)))\n",
        "        \n",
        "  tagset = set(lb.classes_)\n",
        "  tagset = sorted(tagset, key=lambda tag: tag.split('-', 1)[::-1])\n",
        "  class_indices = {cls: idx for idx, cls in enumerate(lb.classes_)}\n",
        "    \n",
        "  return classification_report(\n",
        "    y_true_combined,\n",
        "    y_pred_combined,\n",
        "    labels = [class_indices[cls] for cls in tagset],\n",
        "    target_names = tagset\n",
        "    ), accuracy_score(y_true_combined, y_true_combined\n",
        "    ), f1_score(y_test, y_pred)"
      ],
      "metadata": {
        "id": "DBhnJ0oK-lvE"
      },
      "execution_count": 21,
      "outputs": []
    },
    {
      "cell_type": "code",
      "source": [
        "# Get the ner model report\n",
        "report, accuracy, score = ner_report(y_test, y_pred)"
      ],
      "metadata": {
        "colab": {
          "base_uri": "https://localhost:8080/"
        },
        "id": "WWJdXRlW-pWs",
        "outputId": "ecdb4416-b46e-4124-df08-d732aae6d13a"
      },
      "execution_count": 22,
      "outputs": [
        {
          "output_type": "stream",
          "name": "stderr",
          "text": [
            "/usr/local/lib/python3.8/dist-packages/sklearn/metrics/_classification.py:1318: UndefinedMetricWarning: Precision and F-score are ill-defined and being set to 0.0 in labels with no predicted samples. Use `zero_division` parameter to control this behavior.\n",
            "  _warn_prf(average, modifier, msg_start, len(result))\n",
            "/usr/local/lib/python3.8/dist-packages/seqeval/metrics/sequence_labeling.py:171: UserWarning: L-Name seems not to be NE tag.\n",
            "  warnings.warn('{} seems not to be NE tag.'.format(chunk))\n",
            "/usr/local/lib/python3.8/dist-packages/seqeval/metrics/sequence_labeling.py:171: UserWarning: L-Degree seems not to be NE tag.\n",
            "  warnings.warn('{} seems not to be NE tag.'.format(chunk))\n",
            "/usr/local/lib/python3.8/dist-packages/seqeval/metrics/sequence_labeling.py:171: UserWarning: L-Years of Experience seems not to be NE tag.\n",
            "  warnings.warn('{} seems not to be NE tag.'.format(chunk))\n",
            "/usr/local/lib/python3.8/dist-packages/seqeval/metrics/sequence_labeling.py:171: UserWarning: L-Companies worked at seems not to be NE tag.\n",
            "  warnings.warn('{} seems not to be NE tag.'.format(chunk))\n",
            "/usr/local/lib/python3.8/dist-packages/seqeval/metrics/sequence_labeling.py:171: UserWarning: U-Location seems not to be NE tag.\n",
            "  warnings.warn('{} seems not to be NE tag.'.format(chunk))\n",
            "/usr/local/lib/python3.8/dist-packages/seqeval/metrics/sequence_labeling.py:171: UserWarning: L-Designation seems not to be NE tag.\n",
            "  warnings.warn('{} seems not to be NE tag.'.format(chunk))\n",
            "/usr/local/lib/python3.8/dist-packages/seqeval/metrics/sequence_labeling.py:171: UserWarning: U-Graduation Year seems not to be NE tag.\n",
            "  warnings.warn('{} seems not to be NE tag.'.format(chunk))\n",
            "/usr/local/lib/python3.8/dist-packages/seqeval/metrics/sequence_labeling.py:171: UserWarning: L-College Name seems not to be NE tag.\n",
            "  warnings.warn('{} seems not to be NE tag.'.format(chunk))\n",
            "/usr/local/lib/python3.8/dist-packages/seqeval/metrics/sequence_labeling.py:171: UserWarning: L-Skills seems not to be NE tag.\n",
            "  warnings.warn('{} seems not to be NE tag.'.format(chunk))\n",
            "/usr/local/lib/python3.8/dist-packages/seqeval/metrics/sequence_labeling.py:171: UserWarning: U-Email Address seems not to be NE tag.\n",
            "  warnings.warn('{} seems not to be NE tag.'.format(chunk))\n",
            "/usr/local/lib/python3.8/dist-packages/seqeval/metrics/sequence_labeling.py:171: UserWarning: U-Companies worked at seems not to be NE tag.\n",
            "  warnings.warn('{} seems not to be NE tag.'.format(chunk))\n",
            "/usr/local/lib/python3.8/dist-packages/seqeval/metrics/sequence_labeling.py:171: UserWarning: U-Degree seems not to be NE tag.\n",
            "  warnings.warn('{} seems not to be NE tag.'.format(chunk))\n",
            "/usr/local/lib/python3.8/dist-packages/seqeval/metrics/sequence_labeling.py:171: UserWarning: U-College Name seems not to be NE tag.\n",
            "  warnings.warn('{} seems not to be NE tag.'.format(chunk))\n",
            "/usr/local/lib/python3.8/dist-packages/seqeval/metrics/sequence_labeling.py:171: UserWarning: - seems not to be NE tag.\n",
            "  warnings.warn('{} seems not to be NE tag.'.format(chunk))\n",
            "/usr/local/lib/python3.8/dist-packages/seqeval/metrics/sequence_labeling.py:171: UserWarning: L-Email Address seems not to be NE tag.\n",
            "  warnings.warn('{} seems not to be NE tag.'.format(chunk))\n",
            "/usr/local/lib/python3.8/dist-packages/seqeval/metrics/sequence_labeling.py:171: UserWarning: U-Skills seems not to be NE tag.\n",
            "  warnings.warn('{} seems not to be NE tag.'.format(chunk))\n",
            "/usr/local/lib/python3.8/dist-packages/seqeval/metrics/sequence_labeling.py:171: UserWarning: L-Location seems not to be NE tag.\n",
            "  warnings.warn('{} seems not to be NE tag.'.format(chunk))\n",
            "/usr/local/lib/python3.8/dist-packages/seqeval/metrics/sequence_labeling.py:171: UserWarning: U-Designation seems not to be NE tag.\n",
            "  warnings.warn('{} seems not to be NE tag.'.format(chunk))\n"
          ]
        }
      ]
    },
    {
      "cell_type": "code",
      "source": [
        "# Print the model report\n",
        "print(report)"
      ],
      "metadata": {
        "colab": {
          "base_uri": "https://localhost:8080/"
        },
        "id": "zGkjkDctCLMI",
        "outputId": "4e328b4b-4a18-4fb0-8c8a-5667e38cd35e"
      },
      "execution_count": 23,
      "outputs": [
        {
          "output_type": "stream",
          "name": "stdout",
          "text": [
            "                       precision    recall  f1-score   support\n",
            "\n",
            "                    -       0.00      0.00      0.00       428\n",
            "       B-College Name       0.60      0.69      0.64        54\n",
            "       I-College Name       0.43      0.65      0.52       103\n",
            "       L-College Name       0.58      0.67      0.62        54\n",
            "       U-College Name       0.00      0.00      0.00         6\n",
            "B-Companies worked at       0.66      0.52      0.58        48\n",
            "I-Companies worked at       0.00      0.00      0.00        10\n",
            "L-Companies worked at       0.55      0.44      0.49        48\n",
            "U-Companies worked at       0.44      0.29      0.35        92\n",
            "             B-Degree       0.85      0.64      0.73        45\n",
            "             I-Degree       0.74      0.69      0.71       132\n",
            "             L-Degree       0.82      0.62      0.71        45\n",
            "             U-Degree       0.33      0.60      0.43         5\n",
            "        B-Designation       0.60      0.41      0.48        91\n",
            "        I-Designation       0.49      0.28      0.36       116\n",
            "        L-Designation       0.56      0.38      0.46        91\n",
            "        U-Designation       0.00      0.00      0.00         1\n",
            "      B-Email Address       0.79      0.69      0.73        16\n",
            "      I-Email Address       0.00      0.00      0.00         2\n",
            "      L-Email Address       0.86      0.75      0.80        16\n",
            "      U-Email Address       0.77      0.95      0.85        21\n",
            "    U-Graduation Year       0.00      0.00      0.00        57\n",
            "           B-Location       1.00      0.20      0.33         5\n",
            "           L-Location       1.00      0.20      0.33         5\n",
            "           U-Location       0.57      0.35      0.44        68\n",
            "               B-Name       0.98      0.93      0.96        46\n",
            "               I-Name       0.00      0.00      0.00         2\n",
            "               L-Name       0.93      0.89      0.91        46\n",
            "                    O       0.94      0.98      0.96     27126\n",
            "             B-Skills       0.78      0.50      0.61        50\n",
            "             I-Skills       0.71      0.51      0.59      1693\n",
            "             L-Skills       0.66      0.42      0.51        50\n",
            "             U-Skills       0.00      0.00      0.00         3\n",
            "B-Years of Experience       0.00      0.00      0.00        10\n",
            "I-Years of Experience       0.00      0.00      0.00         3\n",
            "L-Years of Experience       0.00      0.00      0.00        10\n",
            "\n",
            "            micro avg       0.92      0.92      0.92     30598\n",
            "            macro avg       0.49      0.40      0.42     30598\n",
            "         weighted avg       0.90      0.92      0.91     30598\n",
            "          samples avg       0.92      0.92      0.92     30598\n",
            "\n"
          ]
        }
      ]
    },
    {
      "cell_type": "code",
      "source": [
        "# Get the model accuracy\n",
        "print(accuracy)"
      ],
      "metadata": {
        "colab": {
          "base_uri": "https://localhost:8080/"
        },
        "id": "UDRpbI7H_Vsf",
        "outputId": "ac462b34-c69c-49d2-cf64-74a6e2db9239"
      },
      "execution_count": 24,
      "outputs": [
        {
          "output_type": "stream",
          "name": "stdout",
          "text": [
            "1.0\n"
          ]
        }
      ]
    },
    {
      "cell_type": "code",
      "source": [
        "# Get the model f1-score\n",
        "print(score)"
      ],
      "metadata": {
        "colab": {
          "base_uri": "https://localhost:8080/"
        },
        "id": "QWa2IBuLQOfm",
        "outputId": "1a88fef5-e12c-454c-86f8-012c5cb51650"
      },
      "execution_count": 25,
      "outputs": [
        {
          "output_type": "stream",
          "name": "stdout",
          "text": [
            "0.5019157088122606\n"
          ]
        }
      ]
    },
    {
      "cell_type": "markdown",
      "source": [
        "## Save the model"
      ],
      "metadata": {
        "id": "XLI8nBIiELIs"
      }
    },
    {
      "cell_type": "code",
      "source": [
        "# Save the model to disk\n",
        "filename = 'ner_resumes.sav'\n",
        "pickle.dump(nlp, open(filename, 'wb'))"
      ],
      "metadata": {
        "id": "SQh0SFtkEKm2"
      },
      "execution_count": 26,
      "outputs": []
    },
    {
      "cell_type": "markdown",
      "source": [
        "## Try the model on a sample from the test data"
      ],
      "metadata": {
        "id": "UgBgiFLTDb5U"
      }
    },
    {
      "cell_type": "code",
      "source": [
        "# Load the model from disk\n",
        "model = pickle.load(open(filename, 'rb'))"
      ],
      "metadata": {
        "id": "AeD2Vx4LEfxb"
      },
      "execution_count": 34,
      "outputs": []
    },
    {
      "cell_type": "code",
      "source": [
        "# Define colors and options for display\n",
        "colors = {\n",
        "    \"Skills\": \"#ffe599\", \n",
        "    \"College Name\": \"#5e72e4\",\n",
        "    \"Graduation Year\": \"#f4f5f7\",\n",
        "    \"Designation\": \"#11cdef\",\n",
        "    \"Name\": \"#2dce89\", \n",
        "    \"Degree\": \"#f5365c\",\n",
        "    \"Companies worked at\": \"#fb6340\",\n",
        "    \"Location\": \"#849cbc\",\n",
        "    \"Email Address\": \"#4a6a48\",\n",
        "    \"Years of Experience\": \"#e0ecfc\"\n",
        "    }\n",
        "options = {\"ents\": ['Skills', \n",
        "                    'College Name', \n",
        "                    'Graduation Year',\n",
        "                    'Designation',\n",
        "                    'Name',\n",
        "                    'Degree',\n",
        "                    'Companies worked at',\n",
        "                    'Location',\n",
        "                    'Email Address',\n",
        "                    'Years of Experience'\n",
        "                  ], \n",
        "           \"colors\": colors}"
      ],
      "metadata": {
        "id": "GPJ7miKyjZ4B"
      },
      "execution_count": 35,
      "outputs": []
    },
    {
      "cell_type": "code",
      "source": [
        "# # Try the model predictions on one resume\n",
        "# for text, annots in test_data:\n",
        "#   doc = loaded_model(text)\n",
        "#   displacy.render(doc, style = \"ent\", options=options, jupyter = True)\n",
        "#   break"
      ],
      "metadata": {
        "id": "bNr1jTsEEdg_"
      },
      "execution_count": 33,
      "outputs": []
    },
    {
      "cell_type": "code",
      "source": [
        "skill_pattern_path = \"skills.jsonl\""
      ],
      "metadata": {
        "id": "XRBjeO5QBV6X"
      },
      "execution_count": 36,
      "outputs": []
    },
    {
      "cell_type": "code",
      "source": [
        "ruler = model.add_pipe(\"entity_ruler\")\n",
        "ruler.from_disk(skill_pattern_path)\n",
        "print(nlp.pipe_names)\n",
        "print(model.pipe_names)"
      ],
      "metadata": {
        "id": "AregnYb0FneO",
        "colab": {
          "base_uri": "https://localhost:8080/"
        },
        "outputId": "6dff7cfa-4c41-47d5-ea1f-a18cc4c95e20"
      },
      "execution_count": 37,
      "outputs": [
        {
          "output_type": "stream",
          "name": "stdout",
          "text": [
            "['ner']\n",
            "['ner', 'entity_ruler']\n"
          ]
        }
      ]
    },
    {
      "cell_type": "code",
      "source": [
        "def get_skills(text):\n",
        "  doc = nlp(text)\n",
        "  myset = []\n",
        "  subset = []\n",
        "  for ent in doc.ents:\n",
        "    if ent.label_ == \"Skills\":\n",
        "      subset.append(ent.text)\n",
        "  myset.append(subset)\n",
        "  return subset\n",
        "\n",
        "def unique_skills(x):\n",
        "  return list(set(x))"
      ],
      "metadata": {
        "id": "1MKovpSUBdvw"
      },
      "execution_count": 40,
      "outputs": []
    },
    {
      "cell_type": "code",
      "source": [
        "df.head()"
      ],
      "metadata": {
        "colab": {
          "base_uri": "https://localhost:8080/",
          "height": 206
        },
        "id": "cu2TQlaGBrcJ",
        "outputId": "b8a636a0-54d1-45eb-93a6-0bf05f957b39"
      },
      "execution_count": 41,
      "outputs": [
        {
          "output_type": "execute_result",
          "data": {
            "text/plain": [
              "                                             content  \\\n",
              "0  Abhishek Jha Application Development Associate...   \n",
              "1  Afreen Jamadar Active member of IIIT Committee...   \n",
              "2  Akhil Yadav Polemaina Hyderabad, Telangana - E...   \n",
              "3  Alok Khandai Operational Analyst (SQL DBA) Eng...   \n",
              "4  Ananya Chavan lecturer - oracle tutorials  Mum...   \n",
              "\n",
              "                                          annotation  \n",
              "0  [{'label': ['Skills'], 'points': [{'start': 12...  \n",
              "1  [{'label': ['Email Address'], 'points': [{'sta...  \n",
              "2  [{'label': ['Skills'], 'points': [{'start': 37...  \n",
              "3  [{'label': ['Skills'], 'points': [{'start': 80...  \n",
              "4  [{'label': ['Degree'], 'points': [{'start': 20...  "
            ],
            "text/html": [
              "\n",
              "  <div id=\"df-28605213-9232-4215-86ec-d51f0dc1d69e\">\n",
              "    <div class=\"colab-df-container\">\n",
              "      <div>\n",
              "<style scoped>\n",
              "    .dataframe tbody tr th:only-of-type {\n",
              "        vertical-align: middle;\n",
              "    }\n",
              "\n",
              "    .dataframe tbody tr th {\n",
              "        vertical-align: top;\n",
              "    }\n",
              "\n",
              "    .dataframe thead th {\n",
              "        text-align: right;\n",
              "    }\n",
              "</style>\n",
              "<table border=\"1\" class=\"dataframe\">\n",
              "  <thead>\n",
              "    <tr style=\"text-align: right;\">\n",
              "      <th></th>\n",
              "      <th>content</th>\n",
              "      <th>annotation</th>\n",
              "    </tr>\n",
              "  </thead>\n",
              "  <tbody>\n",
              "    <tr>\n",
              "      <th>0</th>\n",
              "      <td>Abhishek Jha Application Development Associate...</td>\n",
              "      <td>[{'label': ['Skills'], 'points': [{'start': 12...</td>\n",
              "    </tr>\n",
              "    <tr>\n",
              "      <th>1</th>\n",
              "      <td>Afreen Jamadar Active member of IIIT Committee...</td>\n",
              "      <td>[{'label': ['Email Address'], 'points': [{'sta...</td>\n",
              "    </tr>\n",
              "    <tr>\n",
              "      <th>2</th>\n",
              "      <td>Akhil Yadav Polemaina Hyderabad, Telangana - E...</td>\n",
              "      <td>[{'label': ['Skills'], 'points': [{'start': 37...</td>\n",
              "    </tr>\n",
              "    <tr>\n",
              "      <th>3</th>\n",
              "      <td>Alok Khandai Operational Analyst (SQL DBA) Eng...</td>\n",
              "      <td>[{'label': ['Skills'], 'points': [{'start': 80...</td>\n",
              "    </tr>\n",
              "    <tr>\n",
              "      <th>4</th>\n",
              "      <td>Ananya Chavan lecturer - oracle tutorials  Mum...</td>\n",
              "      <td>[{'label': ['Degree'], 'points': [{'start': 20...</td>\n",
              "    </tr>\n",
              "  </tbody>\n",
              "</table>\n",
              "</div>\n",
              "      <button class=\"colab-df-convert\" onclick=\"convertToInteractive('df-28605213-9232-4215-86ec-d51f0dc1d69e')\"\n",
              "              title=\"Convert this dataframe to an interactive table.\"\n",
              "              style=\"display:none;\">\n",
              "        \n",
              "  <svg xmlns=\"http://www.w3.org/2000/svg\" height=\"24px\"viewBox=\"0 0 24 24\"\n",
              "       width=\"24px\">\n",
              "    <path d=\"M0 0h24v24H0V0z\" fill=\"none\"/>\n",
              "    <path d=\"M18.56 5.44l.94 2.06.94-2.06 2.06-.94-2.06-.94-.94-2.06-.94 2.06-2.06.94zm-11 1L8.5 8.5l.94-2.06 2.06-.94-2.06-.94L8.5 2.5l-.94 2.06-2.06.94zm10 10l.94 2.06.94-2.06 2.06-.94-2.06-.94-.94-2.06-.94 2.06-2.06.94z\"/><path d=\"M17.41 7.96l-1.37-1.37c-.4-.4-.92-.59-1.43-.59-.52 0-1.04.2-1.43.59L10.3 9.45l-7.72 7.72c-.78.78-.78 2.05 0 2.83L4 21.41c.39.39.9.59 1.41.59.51 0 1.02-.2 1.41-.59l7.78-7.78 2.81-2.81c.8-.78.8-2.07 0-2.86zM5.41 20L4 18.59l7.72-7.72 1.47 1.35L5.41 20z\"/>\n",
              "  </svg>\n",
              "      </button>\n",
              "      \n",
              "  <style>\n",
              "    .colab-df-container {\n",
              "      display:flex;\n",
              "      flex-wrap:wrap;\n",
              "      gap: 12px;\n",
              "    }\n",
              "\n",
              "    .colab-df-convert {\n",
              "      background-color: #E8F0FE;\n",
              "      border: none;\n",
              "      border-radius: 50%;\n",
              "      cursor: pointer;\n",
              "      display: none;\n",
              "      fill: #1967D2;\n",
              "      height: 32px;\n",
              "      padding: 0 0 0 0;\n",
              "      width: 32px;\n",
              "    }\n",
              "\n",
              "    .colab-df-convert:hover {\n",
              "      background-color: #E2EBFA;\n",
              "      box-shadow: 0px 1px 2px rgba(60, 64, 67, 0.3), 0px 1px 3px 1px rgba(60, 64, 67, 0.15);\n",
              "      fill: #174EA6;\n",
              "    }\n",
              "\n",
              "    [theme=dark] .colab-df-convert {\n",
              "      background-color: #3B4455;\n",
              "      fill: #D2E3FC;\n",
              "    }\n",
              "\n",
              "    [theme=dark] .colab-df-convert:hover {\n",
              "      background-color: #434B5C;\n",
              "      box-shadow: 0px 1px 3px 1px rgba(0, 0, 0, 0.15);\n",
              "      filter: drop-shadow(0px 1px 2px rgba(0, 0, 0, 0.3));\n",
              "      fill: #FFFFFF;\n",
              "    }\n",
              "  </style>\n",
              "\n",
              "      <script>\n",
              "        const buttonEl =\n",
              "          document.querySelector('#df-28605213-9232-4215-86ec-d51f0dc1d69e button.colab-df-convert');\n",
              "        buttonEl.style.display =\n",
              "          google.colab.kernel.accessAllowed ? 'block' : 'none';\n",
              "\n",
              "        async function convertToInteractive(key) {\n",
              "          const element = document.querySelector('#df-28605213-9232-4215-86ec-d51f0dc1d69e');\n",
              "          const dataTable =\n",
              "            await google.colab.kernel.invokeFunction('convertToInteractive',\n",
              "                                                     [key], {});\n",
              "          if (!dataTable) return;\n",
              "\n",
              "          const docLinkHtml = 'Like what you see? Visit the ' +\n",
              "            '<a target=\"_blank\" href=https://colab.research.google.com/notebooks/data_table.ipynb>data table notebook</a>'\n",
              "            + ' to learn more about interactive tables.';\n",
              "          element.innerHTML = '';\n",
              "          dataTable['output_type'] = 'display_data';\n",
              "          await google.colab.output.renderOutput(dataTable, element);\n",
              "          const docLink = document.createElement('div');\n",
              "          docLink.innerHTML = docLinkHtml;\n",
              "          element.appendChild(docLink);\n",
              "        }\n",
              "      </script>\n",
              "    </div>\n",
              "  </div>\n",
              "  "
            ]
          },
          "metadata": {},
          "execution_count": 41
        }
      ]
    },
    {
      "cell_type": "code",
      "source": [
        "df[\"skills\"] = df[\"content\"].apply(get_skills)\n",
        "df[\"skills\"] = df[\"skills\"].apply(unique_skills)\n",
        "df.head()"
      ],
      "metadata": {
        "colab": {
          "base_uri": "https://localhost:8080/",
          "height": 337
        },
        "id": "skl1K7FWCcBG",
        "outputId": "74660d96-c20c-4d54-b3c2-541a183ef0cd"
      },
      "execution_count": 51,
      "outputs": [
        {
          "output_type": "execute_result",
          "data": {
            "text/plain": [
              "                                             content  \\\n",
              "0  Abhishek Jha Application Development Associate...   \n",
              "1  Afreen Jamadar Active member of IIIT Committee...   \n",
              "2  Akhil Yadav Polemaina Hyderabad, Telangana - E...   \n",
              "3  Alok Khandai Operational Analyst (SQL DBA) Eng...   \n",
              "4  Ananya Chavan lecturer - oracle tutorials  Mum...   \n",
              "\n",
              "                                          annotation  \\\n",
              "0  [{'label': ['Skills'], 'points': [{'start': 12...   \n",
              "1  [{'label': ['Email Address'], 'points': [{'sta...   \n",
              "2  [{'label': ['Skills'], 'points': [{'start': 37...   \n",
              "3  [{'label': ['Skills'], 'points': [{'start': 80...   \n",
              "4  [{'label': ['Degree'], 'points': [{'start': 20...   \n",
              "\n",
              "                                              skills  \n",
              "0  [• Programming language: C, C++, Java • Oracle...  \n",
              "1  [Database (Less than 1 year), HTML (Less than ...  \n",
              "2                             [servicenow (1 year),]  \n",
              "3       [Database (3 years), SQL (3 years), Sql Dba]  \n",
              "4                                                 []  "
            ],
            "text/html": [
              "\n",
              "  <div id=\"df-f5650572-a341-4382-bee6-15797bae4bfa\">\n",
              "    <div class=\"colab-df-container\">\n",
              "      <div>\n",
              "<style scoped>\n",
              "    .dataframe tbody tr th:only-of-type {\n",
              "        vertical-align: middle;\n",
              "    }\n",
              "\n",
              "    .dataframe tbody tr th {\n",
              "        vertical-align: top;\n",
              "    }\n",
              "\n",
              "    .dataframe thead th {\n",
              "        text-align: right;\n",
              "    }\n",
              "</style>\n",
              "<table border=\"1\" class=\"dataframe\">\n",
              "  <thead>\n",
              "    <tr style=\"text-align: right;\">\n",
              "      <th></th>\n",
              "      <th>content</th>\n",
              "      <th>annotation</th>\n",
              "      <th>skills</th>\n",
              "    </tr>\n",
              "  </thead>\n",
              "  <tbody>\n",
              "    <tr>\n",
              "      <th>0</th>\n",
              "      <td>Abhishek Jha Application Development Associate...</td>\n",
              "      <td>[{'label': ['Skills'], 'points': [{'start': 12...</td>\n",
              "      <td>[• Programming language: C, C++, Java • Oracle...</td>\n",
              "    </tr>\n",
              "    <tr>\n",
              "      <th>1</th>\n",
              "      <td>Afreen Jamadar Active member of IIIT Committee...</td>\n",
              "      <td>[{'label': ['Email Address'], 'points': [{'sta...</td>\n",
              "      <td>[Database (Less than 1 year), HTML (Less than ...</td>\n",
              "    </tr>\n",
              "    <tr>\n",
              "      <th>2</th>\n",
              "      <td>Akhil Yadav Polemaina Hyderabad, Telangana - E...</td>\n",
              "      <td>[{'label': ['Skills'], 'points': [{'start': 37...</td>\n",
              "      <td>[servicenow (1 year),]</td>\n",
              "    </tr>\n",
              "    <tr>\n",
              "      <th>3</th>\n",
              "      <td>Alok Khandai Operational Analyst (SQL DBA) Eng...</td>\n",
              "      <td>[{'label': ['Skills'], 'points': [{'start': 80...</td>\n",
              "      <td>[Database (3 years), SQL (3 years), Sql Dba]</td>\n",
              "    </tr>\n",
              "    <tr>\n",
              "      <th>4</th>\n",
              "      <td>Ananya Chavan lecturer - oracle tutorials  Mum...</td>\n",
              "      <td>[{'label': ['Degree'], 'points': [{'start': 20...</td>\n",
              "      <td>[]</td>\n",
              "    </tr>\n",
              "  </tbody>\n",
              "</table>\n",
              "</div>\n",
              "      <button class=\"colab-df-convert\" onclick=\"convertToInteractive('df-f5650572-a341-4382-bee6-15797bae4bfa')\"\n",
              "              title=\"Convert this dataframe to an interactive table.\"\n",
              "              style=\"display:none;\">\n",
              "        \n",
              "  <svg xmlns=\"http://www.w3.org/2000/svg\" height=\"24px\"viewBox=\"0 0 24 24\"\n",
              "       width=\"24px\">\n",
              "    <path d=\"M0 0h24v24H0V0z\" fill=\"none\"/>\n",
              "    <path d=\"M18.56 5.44l.94 2.06.94-2.06 2.06-.94-2.06-.94-.94-2.06-.94 2.06-2.06.94zm-11 1L8.5 8.5l.94-2.06 2.06-.94-2.06-.94L8.5 2.5l-.94 2.06-2.06.94zm10 10l.94 2.06.94-2.06 2.06-.94-2.06-.94-.94-2.06-.94 2.06-2.06.94z\"/><path d=\"M17.41 7.96l-1.37-1.37c-.4-.4-.92-.59-1.43-.59-.52 0-1.04.2-1.43.59L10.3 9.45l-7.72 7.72c-.78.78-.78 2.05 0 2.83L4 21.41c.39.39.9.59 1.41.59.51 0 1.02-.2 1.41-.59l7.78-7.78 2.81-2.81c.8-.78.8-2.07 0-2.86zM5.41 20L4 18.59l7.72-7.72 1.47 1.35L5.41 20z\"/>\n",
              "  </svg>\n",
              "      </button>\n",
              "      \n",
              "  <style>\n",
              "    .colab-df-container {\n",
              "      display:flex;\n",
              "      flex-wrap:wrap;\n",
              "      gap: 12px;\n",
              "    }\n",
              "\n",
              "    .colab-df-convert {\n",
              "      background-color: #E8F0FE;\n",
              "      border: none;\n",
              "      border-radius: 50%;\n",
              "      cursor: pointer;\n",
              "      display: none;\n",
              "      fill: #1967D2;\n",
              "      height: 32px;\n",
              "      padding: 0 0 0 0;\n",
              "      width: 32px;\n",
              "    }\n",
              "\n",
              "    .colab-df-convert:hover {\n",
              "      background-color: #E2EBFA;\n",
              "      box-shadow: 0px 1px 2px rgba(60, 64, 67, 0.3), 0px 1px 3px 1px rgba(60, 64, 67, 0.15);\n",
              "      fill: #174EA6;\n",
              "    }\n",
              "\n",
              "    [theme=dark] .colab-df-convert {\n",
              "      background-color: #3B4455;\n",
              "      fill: #D2E3FC;\n",
              "    }\n",
              "\n",
              "    [theme=dark] .colab-df-convert:hover {\n",
              "      background-color: #434B5C;\n",
              "      box-shadow: 0px 1px 3px 1px rgba(0, 0, 0, 0.15);\n",
              "      filter: drop-shadow(0px 1px 2px rgba(0, 0, 0, 0.3));\n",
              "      fill: #FFFFFF;\n",
              "    }\n",
              "  </style>\n",
              "\n",
              "      <script>\n",
              "        const buttonEl =\n",
              "          document.querySelector('#df-f5650572-a341-4382-bee6-15797bae4bfa button.colab-df-convert');\n",
              "        buttonEl.style.display =\n",
              "          google.colab.kernel.accessAllowed ? 'block' : 'none';\n",
              "\n",
              "        async function convertToInteractive(key) {\n",
              "          const element = document.querySelector('#df-f5650572-a341-4382-bee6-15797bae4bfa');\n",
              "          const dataTable =\n",
              "            await google.colab.kernel.invokeFunction('convertToInteractive',\n",
              "                                                     [key], {});\n",
              "          if (!dataTable) return;\n",
              "\n",
              "          const docLinkHtml = 'Like what you see? Visit the ' +\n",
              "            '<a target=\"_blank\" href=https://colab.research.google.com/notebooks/data_table.ipynb>data table notebook</a>'\n",
              "            + ' to learn more about interactive tables.';\n",
              "          element.innerHTML = '';\n",
              "          dataTable['output_type'] = 'display_data';\n",
              "          await google.colab.output.renderOutput(dataTable, element);\n",
              "          const docLink = document.createElement('div');\n",
              "          docLink.innerHTML = docLinkHtml;\n",
              "          element.appendChild(docLink);\n",
              "        }\n",
              "      </script>\n",
              "    </div>\n",
              "  </div>\n",
              "  "
            ]
          },
          "metadata": {},
          "execution_count": 51
        }
      ]
    },
    {
      "cell_type": "code",
      "source": [
        "get_skills(df[\"content\"][5])"
      ],
      "metadata": {
        "colab": {
          "base_uri": "https://localhost:8080/"
        },
        "id": "YO2n947oC_I9",
        "outputId": "b3c8eba6-a202-44dd-9dfe-5de6a0b89831"
      },
      "execution_count": 53,
      "outputs": [
        {
          "output_type": "execute_result",
          "data": {
            "text/plain": [
              "['JAVA (1 year), C++ (Less than 1 year), Hadoop (Less than 1 year), HADOOP (Less than 1 year), CSS (Less than 1 year)']"
            ]
          },
          "metadata": {},
          "execution_count": 53
        }
      ]
    },
    {
      "cell_type": "code",
      "source": [
        "input_skills = \"java,c++ (less than 1 year),hadoop,css\""
      ],
      "metadata": {
        "id": "OQ7MmYxuDLnh"
      },
      "execution_count": 76,
      "outputs": []
    },
    {
      "cell_type": "code",
      "source": [
        "req_skills = input_skills.lower().split(\",\")\n",
        "resume_skills = unique_skills(get_skills(df[\"content\"][5].lower()))\n",
        "\n",
        "score = 0\n",
        "for x in req_skills:\n",
        "    print(x)\n",
        "    print(resume_skills)\n",
        "    if x in resume_skills[0]:\n",
        "        score += 1\n",
        "req_skills_len = len(req_skills)\n",
        "print(score)\n",
        "match = round(score / req_skills_len * 100, 1)\n",
        "\n",
        "print(f\"The current Resume is {match}% matched to your requirements\")"
      ],
      "metadata": {
        "colab": {
          "base_uri": "https://localhost:8080/"
        },
        "id": "N78XraOtFW6w",
        "outputId": "9681a17c-abf5-4a68-9c45-a225ccaf37d1"
      },
      "execution_count": 77,
      "outputs": [
        {
          "output_type": "stream",
          "name": "stdout",
          "text": [
            "java\n",
            "['java (1 year), c++ (less than 1 year), hadoop (less than 1 year), hadoop (less than 1 year), css (less than 1 year)']\n",
            "c++ (less than 1 year)\n",
            "['java (1 year), c++ (less than 1 year), hadoop (less than 1 year), hadoop (less than 1 year), css (less than 1 year)']\n",
            "hadoop\n",
            "['java (1 year), c++ (less than 1 year), hadoop (less than 1 year), hadoop (less than 1 year), css (less than 1 year)']\n",
            "css\n",
            "['java (1 year), c++ (less than 1 year), hadoop (less than 1 year), hadoop (less than 1 year), css (less than 1 year)']\n",
            "4\n",
            "The current Resume is 100.0% matched to your requirements\n"
          ]
        }
      ]
    },
    {
      "cell_type": "code",
      "source": [],
      "metadata": {
        "id": "v_7ehj9BFtLj"
      },
      "execution_count": null,
      "outputs": []
    }
  ],
  "metadata": {
    "colab": {
      "provenance": []
    },
    "kernelspec": {
      "display_name": "Python 3",
      "name": "python3"
    },
    "language_info": {
      "name": "python"
    }
  },
  "nbformat": 4,
  "nbformat_minor": 0
}